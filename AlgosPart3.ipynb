{
 "cells": [
  {
   "cell_type": "code",
   "execution_count": 7,
   "id": "593def8e-ac7d-4940-9181-afaa0eba39f3",
   "metadata": {},
   "outputs": [
    {
     "name": "stdin",
     "output_type": "stream",
     "text": [
      "  Hello, World!\n"
     ]
    },
    {
     "name": "stdout",
     "output_type": "stream",
     "text": [
      "#\n",
      "#\n",
      "#\n",
      "#\n",
      "#\n",
      "#\n",
      "###\n",
      "##\n",
      "#\n"
     ]
    }
   ],
   "source": [
    "if __name__ == \"__main__\":\n",
    "    words = input().replace('\\n', '').replace(' ', '')\n",
    "    digits = {}\n",
    "    for digit in words:\n",
    "        if digit in digits:\n",
    "            digits[digit]+=1\n",
    "        else:\n",
    "            digits[digit] = 1\n",
    "\n",
    "    digits = dict(sorted(digits.items()))\n",
    "    for key in digits.keys():\n",
    "        print('#'*digits[key])"
   ]
  },
  {
   "cell_type": "code",
   "execution_count": null,
   "id": "09faba2b-b09d-421d-9faf-edc235fff202",
   "metadata": {},
   "outputs": [],
   "source": []
  }
 ],
 "metadata": {
  "kernelspec": {
   "display_name": "Python 3 (ipykernel)",
   "language": "python",
   "name": "python3"
  },
  "language_info": {
   "codemirror_mode": {
    "name": "ipython",
    "version": 3
   },
   "file_extension": ".py",
   "mimetype": "text/x-python",
   "name": "python",
   "nbconvert_exporter": "python",
   "pygments_lexer": "ipython3",
   "version": "3.11.5"
  }
 },
 "nbformat": 4,
 "nbformat_minor": 5
}
