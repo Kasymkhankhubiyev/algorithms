{
 "cells": [
  {
   "cell_type": "markdown",
   "id": "ddff4bf5-a74e-4caf-951f-cc5e22ed748f",
   "metadata": {},
   "source": [
    "# Переговорная"
   ]
  },
  {
   "cell_type": "markdown",
   "id": "a27e43b5-d2d3-4f7d-8252-d40e102be732",
   "metadata": {},
   "source": [
    "1. На вход массив массивов вида [[start_1, end_1], ..., [start_n, end_n]]. Найти максимальную сумму end_i - start_i такую, что отрезки не пересекаются\n",
    "Реализовать произвольный жадный алгоритм для задачи о переговорках (можно несколько). Покрыть тест-кейсами на успешную/не успешную работу алгоритма.\n",
    "\n",
    "3 балла: успешное решение жадным алгоритмом\n",
    "\n",
    "2 балла: решение покрытое тест-кейсами для успешной и не успешной работы\n",
    "\n",
    "1 балл: решение просто с какими-то тестами"
   ]
  },
  {
   "cell_type": "code",
   "execution_count": 165,
   "id": "b91ab4e2-6421-4b53-9e90-10e4e868bdf9",
   "metadata": {},
   "outputs": [],
   "source": [
    "def make_schedule(time_slots: 'list[list[int]]'):\n",
    "    indexes = [i for i in range(len(time_slots))]\n",
    "    # сортируем по концу в порядке возрастания\n",
    "    time_slots.sort(key=lambda x: x[-1])\n",
    "    schedule = []\n",
    "    while len(time_slots) > 0:\n",
    "        _slots = []\n",
    "        schedule.append(time_slots[0])\n",
    "        for i in range(1, len(time_slots)):\n",
    "            if time_slots[i][0] >= time_slots[0][-1]:\n",
    "                _slots.append(time_slots[i])\n",
    "        time_slots = _slots\n",
    "\n",
    "    output = ' '*schedule[0][0]\n",
    "    for idx, slot in enumerate(schedule):\n",
    "        if idx >=1:\n",
    "            output += ' '*(slot[0] - schedule[idx-1][-1])\n",
    "        output += '#' + '-'*(slot[-1] - slot[0]) + '#'\n",
    "    print(output)\n",
    "    return schedule"
   ]
  },
  {
   "cell_type": "code",
   "execution_count": 144,
   "id": "66111367-65af-47bf-8c31-0c9a38a45cc1",
   "metadata": {},
   "outputs": [],
   "source": [
    "def schedules_are_equal(schedule1, schedule2):\n",
    "    try:\n",
    "        assert len(schedule1) == len(schedule2)\n",
    "    except Exception:\n",
    "        print(\"Arrays' lenghts differ:\")\n",
    "        return False\n",
    "        \n",
    "    for i in range(len(schedule1)):\n",
    "        if schedule1[i][0] != schedule2[i][0] or schedule1[i][1] != schedule2[i][1]:\n",
    "            return False\n",
    "    return True"
   ]
  },
  {
   "cell_type": "code",
   "execution_count": 196,
   "id": "e5642d04-63af-4a13-83fd-88878ed9bd13",
   "metadata": {},
   "outputs": [],
   "source": [
    "def test1(func):\n",
    "    time_slots = [[0, 4],\n",
    "                  [3, 5],\n",
    "                  [9, 12],\n",
    "                  [4, 13],\n",
    "                  [7, 8]]\n",
    "    slots = func(time_slots)\n",
    "    try:\n",
    "        assert schedules_are_equal([[0, 4],[7, 8],[9, 12]], slots)\n",
    "        print('test passed')\n",
    "    except Exception:\n",
    "        print('test not passed')\n",
    "\n",
    "def test2(func):\n",
    "    time_slots = [[0, 1], [0, 5], [1, 2], [3, 4], [4, 6]]\n",
    "    slots = func(time_slots)\n",
    "    try:\n",
    "        assert schedules_are_equal([[0, 1],[1, 2],[3, 4], [4, 6]], slots)\n",
    "        print('test passed')\n",
    "    except Exception:\n",
    "        print('test not passed')\n",
    "\n",
    "def test3(func):\n",
    "    time_slots = [[0, 12], [0, 6], [3, 13], [2, 11]]\n",
    "    slots = func(time_slots)\n",
    "    try:\n",
    "        assert schedules_are_equal([[0, 6]], slots)\n",
    "        print('test passed')\n",
    "    except Exception:\n",
    "        print('test not passed')\n",
    "\n",
    "def test4(func):\n",
    "    time_slots = [[1, 3], [4, 5], [1, 5]]\n",
    "    slots = func(time_slots)\n",
    "    try:\n",
    "        assert schedules_are_equal([[1, 5]], slots)\n",
    "        print('test passed')\n",
    "    except Exception:\n",
    "        print('test not passed')"
   ]
  },
  {
   "cell_type": "code",
   "execution_count": 197,
   "id": "f2b489fe-a9af-4e19-b784-fb197b2435d6",
   "metadata": {},
   "outputs": [],
   "source": [
    "time_slots = [[0, 4],\n",
    "              [3, 5],\n",
    "              [9, 12],\n",
    "              [4, 13],\n",
    "              [7, 8]]"
   ]
  },
  {
   "cell_type": "code",
   "execution_count": 198,
   "id": "f09a446f-93f9-429f-87fa-b100f3fb2ebb",
   "metadata": {},
   "outputs": [
    {
     "name": "stdout",
     "output_type": "stream",
     "text": [
      " #--# #-#\n"
     ]
    },
    {
     "data": {
      "text/plain": [
       "[[1, 3], [4, 5]]"
      ]
     },
     "execution_count": 198,
     "metadata": {},
     "output_type": "execute_result"
    }
   ],
   "source": [
    "time_slots = [[1, 3], [4, 5], [1, 5]]\n",
    "make_schedule(time_slots)"
   ]
  },
  {
   "cell_type": "code",
   "execution_count": 199,
   "id": "ac7fba3f-8b3d-425e-bd42-4c6efce45fd1",
   "metadata": {},
   "outputs": [
    {
     "name": "stdout",
     "output_type": "stream",
     "text": [
      "#----#   #-# #---#\n",
      "test passed\n",
      "#-##-# #-##--#\n",
      "test passed\n",
      "#------#\n",
      "test passed\n",
      " #--# #-#\n",
      "Arrays' lenghts differ:\n",
      "test not passed\n"
     ]
    }
   ],
   "source": [
    "test1(make_schedule)\n",
    "test2(make_schedule)\n",
    "test3(make_schedule)\n",
    "test4(make_schedule)"
   ]
  },
  {
   "cell_type": "markdown",
   "id": "5e6682d4-a666-4934-84c0-6c71deb753e6",
   "metadata": {},
   "source": [
    "# Ханойские башни"
   ]
  },
  {
   "cell_type": "markdown",
   "id": "08a4ba24-6dc0-4c8a-88f0-598d7e811cb2",
   "metadata": {},
   "source": [
    "Ханойские башни. Нужно рекурсивное решение - сложность 2^n − 1"
   ]
  },
  {
   "cell_type": "code",
   "execution_count": 89,
   "id": "0c36ffe3-60dc-4b87-8abf-d0ea83bf8e12",
   "metadata": {},
   "outputs": [
    {
     "name": "stdout",
     "output_type": "stream",
     "text": [
      "[5, 4, 3, 2, 1]\n",
      "[]\n",
      "[]\n",
      "__________________________\n",
      "[5, 4, 3, 2]\n",
      "[]\n",
      "[1]\n",
      "__________________________\n",
      "[5, 4, 3]\n",
      "[2]\n",
      "[1]\n",
      "__________________________\n",
      "[5, 4, 3]\n",
      "[2, 1]\n",
      "[]\n",
      "__________________________\n",
      "[5, 4]\n",
      "[2, 1]\n",
      "[3]\n",
      "__________________________\n",
      "[5, 4, 1]\n",
      "[2]\n",
      "[3]\n",
      "__________________________\n",
      "[5, 4, 1]\n",
      "[]\n",
      "[3, 2]\n",
      "__________________________\n",
      "[5, 4]\n",
      "[]\n",
      "[3, 2, 1]\n",
      "__________________________\n",
      "[5]\n",
      "[4]\n",
      "[3, 2, 1]\n",
      "__________________________\n",
      "[5]\n",
      "[4, 1]\n",
      "[3, 2]\n",
      "__________________________\n",
      "[5, 2]\n",
      "[4, 1]\n",
      "[3]\n",
      "__________________________\n",
      "[5, 2, 1]\n",
      "[4]\n",
      "[3]\n",
      "__________________________\n",
      "[5, 2, 1]\n",
      "[4, 3]\n",
      "[]\n",
      "__________________________\n",
      "[5, 2]\n",
      "[4, 3]\n",
      "[1]\n",
      "__________________________\n",
      "[5]\n",
      "[4, 3, 2]\n",
      "[1]\n",
      "__________________________\n",
      "[5]\n",
      "[4, 3, 2, 1]\n",
      "[]\n",
      "__________________________\n",
      "[]\n",
      "[4, 3, 2, 1]\n",
      "[5]\n",
      "__________________________\n",
      "[1]\n",
      "[4, 3, 2]\n",
      "[5]\n",
      "__________________________\n",
      "[1]\n",
      "[4, 3]\n",
      "[5, 2]\n",
      "__________________________\n",
      "[]\n",
      "[4, 3]\n",
      "[5, 2, 1]\n",
      "__________________________\n",
      "[3]\n",
      "[4]\n",
      "[5, 2, 1]\n",
      "__________________________\n",
      "[3]\n",
      "[4, 1]\n",
      "[5, 2]\n",
      "__________________________\n",
      "[3, 2]\n",
      "[4, 1]\n",
      "[5]\n",
      "__________________________\n",
      "[3, 2, 1]\n",
      "[4]\n",
      "[5]\n",
      "__________________________\n",
      "[3, 2, 1]\n",
      "[]\n",
      "[5, 4]\n",
      "__________________________\n",
      "[3, 2]\n",
      "[]\n",
      "[5, 4, 1]\n",
      "__________________________\n",
      "[3]\n",
      "[2]\n",
      "[5, 4, 1]\n",
      "__________________________\n",
      "[3]\n",
      "[2, 1]\n",
      "[5, 4]\n",
      "__________________________\n",
      "[]\n",
      "[2, 1]\n",
      "[5, 4, 3]\n",
      "__________________________\n",
      "[1]\n",
      "[2]\n",
      "[5, 4, 3]\n",
      "__________________________\n",
      "[1]\n",
      "[]\n",
      "[5, 4, 3, 2]\n",
      "__________________________\n",
      "[]\n",
      "[]\n",
      "[5, 4, 3, 2, 1]\n",
      "__________________________\n"
     ]
    }
   ],
   "source": [
    "def show_axes():\n",
    "  print(A, B, C, '__________________________', sep='\\n')\n",
    "\n",
    "def move(n, source_axis, target_axis, aux_axis):\n",
    "  if n > 0:\n",
    "    # 1 переносим (n-1)-ый диск с первого стержня на буферный\n",
    "    move(n - 1, source_axis, aux_axis, target_axis)\n",
    "    # 2. переносим 1 диск с первого стержня на последний\n",
    "    target_axis.append(source_axis.pop())\n",
    "    show_axes()\n",
    "    # 3. переносим (n-1) диск с буферного стрежня на последний\n",
    "    move(n - 1, aux_axis, target_axis, source_axis)\n",
    "\n",
    "ndisks = 5\n",
    "A = list(range(ndisks, 0, -1))\n",
    "B = []\n",
    "C = []\n",
    "\n",
    "show_axes()\n",
    "move(ndisks, A, C, B)"
   ]
  },
  {
   "cell_type": "markdown",
   "id": "5b6098fa-3038-482e-9d75-d2197a993167",
   "metadata": {},
   "source": [
    "# Объем трехмерной сферы методом Монте Карло"
   ]
  },
  {
   "cell_type": "markdown",
   "id": "c8dbf44b-01ca-48be-9f42-6ec5c5f8654e",
   "metadata": {},
   "source": [
    "Найти объем шара радиусом 1 с цетром (0, 0) методом Монте-Карло на сетке [-1,1]^3, засечь время и точность (1 балл).\n",
    "Найти объем того же шара на некотором усеченном пространстве. Сравнить результаты (2 балла)"
   ]
  },
  {
   "cell_type": "markdown",
   "id": "8bdb5174-c6d2-4f57-a269-41a8865c9466",
   "metadata": {},
   "source": [
    "## Non Classic"
   ]
  },
  {
   "cell_type": "code",
   "execution_count": 73,
   "id": "785486fb-1e88-4d0f-9b62-c7da309213f7",
   "metadata": {},
   "outputs": [],
   "source": [
    "import numpy as np\n",
    "\n",
    "def drop_points(N: int) -> None:\n",
    "    _x = np.random.uniform(-1, 1, (N, 3))\n",
    "    # print(_x)\n",
    "    _distances = (_x**2).sum(axis=1)\n",
    "    # print(_distances)\n",
    "    return np.where(_distances <= 1, 1, 0).sum() / N"
   ]
  },
  {
   "cell_type": "code",
   "execution_count": 45,
   "id": "ca147c0b-0f0a-4b9d-a717-ba80cfaae2b3",
   "metadata": {},
   "outputs": [],
   "source": [
    "monte_carlo = drop_points(100000000)"
   ]
  },
  {
   "cell_type": "code",
   "execution_count": 40,
   "id": "34877110-84e9-42c9-a096-a950c3573681",
   "metadata": {},
   "outputs": [
    {
     "name": "stdout",
     "output_type": "stream",
     "text": [
      "0.5235987755982988\n"
     ]
    }
   ],
   "source": [
    "Vsp = 4 / 3 * np.pi\n",
    "Vcube = 2**3\n",
    "ration = Vsp/Vcube\n",
    "print(ration)"
   ]
  },
  {
   "cell_type": "code",
   "execution_count": 43,
   "id": "88352704-96b2-4ca3-99aa-c3c41baeb541",
   "metadata": {},
   "outputs": [
    {
     "data": {
      "text/plain": [
       "0.0016187755982988161"
      ]
     },
     "execution_count": 43,
     "metadata": {},
     "output_type": "execute_result"
    }
   ],
   "source": [
    "diff = (ration - monte_carlo)\n",
    "diff"
   ]
  },
  {
   "cell_type": "code",
   "execution_count": 27,
   "id": "38e47a1d-4a87-4f94-9527-cf89c5af741e",
   "metadata": {},
   "outputs": [
    {
     "data": {
      "text/plain": [
       "(3, 3)"
      ]
     },
     "execution_count": 27,
     "metadata": {},
     "output_type": "execute_result"
    }
   ],
   "source": [
    "np.array([[1, 1, 1], [2, 2, 2], [3, 3, 3]]).shape"
   ]
  },
  {
   "cell_type": "code",
   "execution_count": 85,
   "id": "7b6031e1-1920-4ff5-b240-6293f038e608",
   "metadata": {},
   "outputs": [],
   "source": [
    "def run_experiment(N):\n",
    "    diffs = []\n",
    "    points = []\n",
    "    for i in range(10, N, 10):\n",
    "        points.append(i)\n",
    "        # print(i)\n",
    "        monte_carlo = drop_points(i)\n",
    "        diffs.append(ration - monte_carlo)\n",
    "\n",
    "    return diffs, points"
   ]
  },
  {
   "cell_type": "code",
   "execution_count": 86,
   "id": "fd4ab7f9-cba4-45b9-a9ec-081386f14382",
   "metadata": {},
   "outputs": [],
   "source": [
    "import time"
   ]
  },
  {
   "cell_type": "code",
   "execution_count": 87,
   "id": "fc78060f-20f8-469b-afd8-a0a5dd2bb465",
   "metadata": {},
   "outputs": [
    {
     "name": "stdout",
     "output_type": "stream",
     "text": [
      "CPU times: user 9.41 s, sys: 758 ms, total: 10.2 s\n",
      "Wall time: 10.2 s\n"
     ]
    }
   ],
   "source": [
    "%%time\n",
    "diffs, points = run_experiment(10**5)"
   ]
  },
  {
   "cell_type": "code",
   "execution_count": 88,
   "id": "b11965c3-6c8d-4531-b2a6-cb6cdc6ebcd5",
   "metadata": {},
   "outputs": [
    {
     "data": {
      "image/png": "[encoded data removed]",
      "text/plain": [
       "<Figure size 640x480 with 1 Axes>"
      ]
     },
     "metadata": {},
     "output_type": "display_data"
    }
   ],
   "source": [
    "import matplotlib.pyplot as plt\n",
    "\n",
    "plt.plot(points, diffs)\n",
    "plt.xlabel('steps')\n",
    "plt.ylabel('difference')\n",
    "plt.show()"
   ]
  },
  {
   "cell_type": "markdown",
   "id": "60aadea7-06bb-4d6b-a659-760ecea14c1b",
   "metadata": {},
   "source": [
    "# Classic Monte-Carlo"
   ]
  },
  {
   "cell_type": "code",
   "execution_count": 74,
   "id": "7fc30e0b-474d-425d-b282-dac37f8a4c9f",
   "metadata": {},
   "outputs": [],
   "source": [
    "def MonteCarlo(N: int, M: int):\n",
    "    area = 0\n",
    "    for _ in range(M):\n",
    "        _x = np.random.uniform(-1, 1, (N, 3))\n",
    "        area += np.where((_x**2).sum(axis=1) <= 1, 1, 0).sum() / N\n",
    "    return area / M"
   ]
  },
  {
   "cell_type": "code",
   "execution_count": 91,
   "id": "3e55c808-5bff-494b-b9d0-d2cbf4ef3214",
   "metadata": {},
   "outputs": [],
   "source": [
    "def run_experiment(N, M):\n",
    "    diffs = []\n",
    "    points = []\n",
    "    for i in range(10, N, 10):\n",
    "        points.append(i)\n",
    "        monte_carlo = MonteCarlo(i, M)\n",
    "        diffs.append(ration - monte_carlo)\n",
    "\n",
    "    return diffs, points"
   ]
  },
  {
   "cell_type": "code",
   "execution_count": 94,
   "id": "cb1868e1-8221-47dd-b2db-3f002afc7ffd",
   "metadata": {},
   "outputs": [
    {
     "name": "stdout",
     "output_type": "stream",
     "text": [
      "CPU times: user 9.7 s, sys: 176 ms, total: 9.87 s\n",
      "Wall time: 9.87 s\n"
     ]
    }
   ],
   "source": [
    "%%time\n",
    "diffs, points = run_experiment(10**4, 100)"
   ]
  },
  {
   "cell_type": "code",
   "execution_count": 95,
   "id": "9e2126cd-9bd6-4d4b-b633-eee1e78c6d97",
   "metadata": {},
   "outputs": [
    {
     "data": {
      "image/png": "[encoded data removed]",
      "text/plain": [
       "<Figure size 640x480 with 1 Axes>"
      ]
     },
     "metadata": {},
     "output_type": "display_data"
    }
   ],
   "source": [
    "plt.plot(points, diffs)\n",
    "plt.xlabel('steps')\n",
    "plt.ylabel('difference')\n",
    "plt.show()"
   ]
  },
  {
   "cell_type": "markdown",
   "id": "6c25806e-b1d7-4f53-9328-98d1d81f532c",
   "metadata": {},
   "source": [
    "## Усеченный случай"
   ]
  },
  {
   "cell_type": "code",
   "execution_count": 151,
   "id": "6ddad9e8-e821-4bf5-af78-7e9efa1c230e",
   "metadata": {},
   "outputs": [],
   "source": [
    "# построим плоскость\n",
    "def plain(a, b, c, d, x, y, z):\n",
    "    return a*x + b*y + c*z + d\n",
    "\n",
    "def drop_points_in_plane(N: int, M: int, A:int, B:int, C: int, D:int, rule='greater') -> None:\n",
    "    _x = np.random.uniform(-1, 1, (N, 3))\n",
    "    _distances = (_x**2).sum(axis=1)\n",
    "    _in_plain = np.array(list(map(lambda _point: plain(A, B, C, D, _point[0], _point[1], _point[2]), _x)))\n",
    "    if rule=='greater':\n",
    "        ration = np.where((_distances <= 1) & (_in_plain >= 0), 1, 0).sum() / np.where(_in_plain >= 0, 1, 0).sum()\n",
    "    if rule == 'less':\n",
    "        ration = np.where((_distances <= 1) & (_in_plain <= 0), 1, 0).sum() / np.where(_in_plain <= 0, 1, 0).sum()\n",
    "    return ration"
   ]
  },
  {
   "cell_type": "code",
   "execution_count": 161,
   "id": "e36dc300-5d52-4238-b54e-6ab0a5d8a93d",
   "metadata": {},
   "outputs": [
    {
     "data": {
      "text/plain": [
       "0.49"
      ]
     },
     "execution_count": 161,
     "metadata": {},
     "output_type": "execute_result"
    }
   ],
   "source": [
    "drop_points_in_plane(100, 10, -1, -1, 1, -2, 'less')"
   ]
  },
  {
   "cell_type": "markdown",
   "id": "bc522953-6523-4d8c-84e6-7e2ae235b165",
   "metadata": {},
   "source": [
    "# Камни"
   ]
  },
  {
   "cell_type": "markdown",
   "id": "95d3ae55-de91-431c-9e2f-5068bc183a2e",
   "metadata": {},
   "source": [
    "Задача о комнях. Петя и Вася вытягивают камни из двух куч. В одной n, в другой m камней. Первый ходит Петя. Выигрывает тот, кто забирает последний камень. За ход можно взять либо один камень из любой из куч, либо по камню из каждой. Требуется по числам m, n определить может ли Петя детерминированно выиграть."
   ]
  },
  {
   "cell_type": "code",
   "execution_count": 193,
   "id": "a37b6220-063c-40b2-be4d-8902243ec27f",
   "metadata": {},
   "outputs": [],
   "source": [
    "def stones(n, m, start=True):\n",
    "    if n+m == 1 or n+m==2:\n",
    "        print('You Won')\n",
    "        return 1\n",
    "    if n+m > 4:\n",
    "        # взять 1 из первой кучи\n",
    "        if start:\n",
    "            res = stones(n-1, m, False)\n",
    "            if res == 1:\n",
    "                return 1\n",
    "        else:\n",
    "            res = stones(n-2, m, False)\n",
    "            if res != 1:\n",
    "                res = stones(n-1, m-1, False)\n",
    "            if res != 1:\n",
    "                res = stones(n-2, m-1, False)\n",
    "            if res == 1:\n",
    "                return 1\n",
    "            else:\n",
    "            \n",
    "                # взять 1 из второй кучи\n",
    "                if start:\n",
    "                    res = stones(n, m-1, False)\n",
    "                    if res == 1:\n",
    "                        return 1\n",
    "                else:\n",
    "                    res = stones(n, m-2, False)\n",
    "                    if res != 1:\n",
    "                        res = stones(n-1, m-1, False)\n",
    "                    if res != 1:\n",
    "                        res = stones(n-1, m-2, False)\n",
    "                    if res == 1:\n",
    "                        return 1\n",
    "                    else:\n",
    "                        # взять по 1 из каждой\n",
    "                        if start:\n",
    "                            res = stones(n-1, m-1, False)\n",
    "                            if res == 1:\n",
    "                                return 1\n",
    "                        else:\n",
    "                            res = stones(n-1, m-2, False)\n",
    "                            if res != 1:\n",
    "                                res = stones(n-2, m-1, False)\n",
    "                            if res != 1:\n",
    "                                res = stones(n-2, m-2, False)\n",
    "                            if res == 1:\n",
    "                                return 1\n",
    "                            else:\n",
    "                                return 0\n",
    "    else:\n",
    "        print('You loose')"
   ]
  },
  {
   "cell_type": "code",
   "execution_count": 203,
   "id": "71f7fca1-493b-4be7-acaa-d8d54a7ccdb2",
   "metadata": {},
   "outputs": [
    {
     "name": "stdout",
     "output_type": "stream",
     "text": [
      "You Won\n"
     ]
    },
    {
     "data": {
      "text/plain": [
       "1"
      ]
     },
     "execution_count": 203,
     "metadata": {},
     "output_type": "execute_result"
    }
   ],
   "source": [
    "stones(3, 3)"
   ]
  },
  {
   "cell_type": "code",
   "execution_count": null,
   "id": "2dc9429c-ffac-4686-87c5-123f123aacff",
   "metadata": {},
   "outputs": [],
   "source": []
  }
 ],
 "metadata": {
  "kernelspec": {
   "display_name": "venv",
   "language": "python",
   "name": "venv"
  },
  "language_info": {
   "codemirror_mode": {
    "name": "ipython",
    "version": 3
   },
   "file_extension": ".py",
   "mimetype": "text/x-python",
   "name": "python",
   "nbconvert_exporter": "python",
   "pygments_lexer": "ipython3",
   "version": "3.9.13"
  }
 },
 "nbformat": 4,
 "nbformat_minor": 5
}
