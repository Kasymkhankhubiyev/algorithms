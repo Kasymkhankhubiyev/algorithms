{
 "cells": [
  {
   "cell_type": "markdown",
   "id": "1fc799ac-4a95-410b-9c61-61634f833b0e",
   "metadata": {},
   "source": [
    "# Максимальная сумма"
   ]
  },
  {
   "cell_type": "markdown",
   "id": "0f86d20f-9878-46f6-a664-c86137cb4db4",
   "metadata": {},
   "source": [
    "Дан числовой массив длины n. Предложите алгоритм, находящий максимальное значение сумм отрезков этого массива. \n",
    "Ограничения: О(n) по времени и О(1) по дополнительной памяти."
   ]
  },
  {
   "cell_type": "code",
   "execution_count": 21,
   "id": "d31857b3-8e21-48db-bff9-a216083570da",
   "metadata": {},
   "outputs": [],
   "source": [
    "def find_max_interval(seq: 'list[int]') -> int:\n",
    "    #\n",
    "    ans = 0\n",
    "    # left border\n",
    "    ans_l = 0\n",
    "    # rigth border\n",
    "    ans_r = 0\n",
    "    # текущая частичная сумма\n",
    "    summ = 0\n",
    "    # текущий минимум в частичной сумме\n",
    "    min_sum = 0\n",
    "    # индекс элемента на котором достигается\n",
    "    min_idx = -1\n",
    "\n",
    "    for k in range(len(seq)):\n",
    "        # увеличиваем частичную сумму\n",
    "        summ += seq[k] \n",
    "\n",
    "        # считаем разницу между минимамумом частичных сумм и текущей частичной суммы\n",
    "        cur = summ - min_sum\n",
    "        # если есть прирост - минимум не сместился\n",
    "        if cur > ans:\n",
    "            ans = cur # смещаем\n",
    "            ans_l = min_idx + 1\n",
    "            ans_r = k\n",
    "\n",
    "        if summ < min_sum:\n",
    "            min_sum = summ\n",
    "            min_idx = k\n",
    "\n",
    "    return sum(seq[ans_l:ans_r+1]), seq[ans_l:ans_r+1]"
   ]
  },
  {
   "cell_type": "code",
   "execution_count": 26,
   "id": "e3acbe79-7192-4dab-8ad8-fa4215cd3a97",
   "metadata": {},
   "outputs": [
    {
     "data": {
      "text/plain": [
       "(100, [100])"
      ]
     },
     "execution_count": 26,
     "metadata": {},
     "output_type": "execute_result"
    }
   ],
   "source": [
    "sequence = [1, -10**6, 100]\n",
    "# sequence = [0, 0, 0, 0]\n",
    "\n",
    "find_max_interval(sequence)"
   ]
  },
  {
   "cell_type": "code",
   "execution_count": null,
   "id": "a611582b-743e-4bd0-90ff-17123ccf67cb",
   "metadata": {},
   "outputs": [],
   "source": []
  },
  {
   "cell_type": "code",
   "execution_count": null,
   "id": "abffc4e5-679d-4c82-8986-eb9b83b89fe8",
   "metadata": {},
   "outputs": [],
   "source": []
  }
 ],
 "metadata": {
  "kernelspec": {
   "display_name": "venv",
   "language": "python",
   "name": "venv"
  },
  "language_info": {
   "codemirror_mode": {
    "name": "ipython",
    "version": 3
   },
   "file_extension": ".py",
   "mimetype": "text/x-python",
   "name": "python",
   "nbconvert_exporter": "python",
   "pygments_lexer": "ipython3",
   "version": "3.9.13"
  }
 },
 "nbformat": 4,
 "nbformat_minor": 5
}
