{
 "cells": [
  {
   "cell_type": "markdown",
   "id": "1af0ca94-db25-4a40-b291-a656a37c4394",
   "metadata": {},
   "source": [
    "# Знаменитость "
   ]
  },
  {
   "cell_type": "markdown",
   "id": "81821e11-3107-4e90-a493-f9a5910be2f0",
   "metadata": {},
   "source": [
    "В множестве из n человек каждый может знать другого (если А знает В, отсюда не следует, что В знает А). \n",
    "Все знакомства заданы булевой матрицей nxn. В этом множестве может найтись или не найтись знаменитость - человек,\n",
    "который никого не знает, но которого знают все. Предложите алгоритм, который бы находил в множестве знаменитость или говорил, что ее в этом множестве нет. \n",
    "\n",
    "Ограничения: O(n) по времени, O(1) по дополнительной памяти"
   ]
  },
  {
   "cell_type": "code",
   "execution_count": 30,
   "id": "d7642260-78f9-4588-943f-459593139b36",
   "metadata": {},
   "outputs": [],
   "source": [
    "def find_celebrity(matrix):\n",
    "    k = None\n",
    "    for i in range(len(matrix)):\n",
    "        for j in range(i+1, len(matrix)):\n",
    "            if matrix[i][j] == 1:\n",
    "                i = j\n",
    "                break\n",
    "        if j == len(matrix)-1:\n",
    "            k = i\n",
    "            break\n",
    "\n",
    "    fans = 0\n",
    "    for i in range(len(matrix)):\n",
    "        if i != k:\n",
    "            fans += matrix[i][k]\n",
    "    if fans == len(matrix) - 1:\n",
    "        count = 0\n",
    "        for j in range(len(matrix)):\n",
    "            if j != k:\n",
    "                count += matrix[k][j]\n",
    "        if count == 0:\n",
    "            return True\n",
    "        return False\n",
    "    return False"
   ]
  },
  {
   "cell_type": "code",
   "execution_count": 31,
   "id": "17088b70-07ca-4c5e-a2ea-f8e5182b6619",
   "metadata": {},
   "outputs": [
    {
     "data": {
      "text/plain": [
       "True"
      ]
     },
     "execution_count": 31,
     "metadata": {},
     "output_type": "execute_result"
    }
   ],
   "source": [
    "matrix = [[0, 1, 1, 1, 1],\n",
    "          [0, 0, 1, 0, 1],\n",
    "          [0, 0, 0, 0, 0],\n",
    "          [1, 0, 1, 0, 1],\n",
    "          [1, 1, 1, 1, 0]]\n",
    "\n",
    "find_celebrity(matrix)"
   ]
  },
  {
   "cell_type": "code",
   "execution_count": 42,
   "id": "7c1a9c4c-8479-45d2-aaf7-7a8d986c4796",
   "metadata": {},
   "outputs": [],
   "source": [
    "def test1(func) -> int:\n",
    "    matrix = [[0, 1, 1, 1, 1],\n",
    "              [0, 0, 1, 0, 1],\n",
    "              [0, 0, 0, 0, 0],\n",
    "              [1, 0, 1, 0, 1],\n",
    "              [1, 1, 1, 1, 0]]\n",
    "    try:\n",
    "        assert True == func(matrix)\n",
    "        print('Test passed')\n",
    "        return 1\n",
    "    except Exception:\n",
    "        print('Test not passed')\n",
    "        return 0\n",
    "\n",
    "def test2(func) -> int:\n",
    "    matrix = [[1, 1, 1, 1, 1],\n",
    "              [0, 1, 1, 0, 1],\n",
    "              [0, 0, 1, 0, 0],\n",
    "              [1, 0, 1, 1, 1],\n",
    "              [1, 1, 1, 1, 1]]\n",
    "    try:\n",
    "        assert True == func(matrix)\n",
    "        print('Test passed')\n",
    "        return 1\n",
    "    except Exception:\n",
    "        print('Test not passed')\n",
    "        return 0\n",
    "\n",
    "\n",
    "def test3(func) -> int:\n",
    "    matrix = [[1, 1, 1, 1, 1],\n",
    "              [0, 1, 1, 0, 1],\n",
    "              [1, 0, 1, 0, 0],\n",
    "              [1, 0, 1, 1, 1],\n",
    "              [1, 1, 1, 1, 1]]\n",
    "    try:\n",
    "        assert False == func(matrix)\n",
    "        print('Test passed')\n",
    "        return 1\n",
    "    except Exception:\n",
    "        print('Test not passed')\n",
    "        return 0\n",
    "\n",
    "\n",
    "def run_tests(func) -> None:\n",
    "    tests = [test1, test2, test3]\n",
    "    count = 0\n",
    "    for test in tests:\n",
    "        count += test(func)\n",
    "    print(f'\\n{count} out of {len(tests)} passed!')"
   ]
  },
  {
   "cell_type": "code",
   "execution_count": 43,
   "id": "0880003d-ab08-4118-8cb4-e2c6ed07aa49",
   "metadata": {},
   "outputs": [
    {
     "name": "stdout",
     "output_type": "stream",
     "text": [
      "Test passed\n",
      "Test passed\n",
      "Test passed\n",
      "\n",
      "3 out of 3 passed!\n"
     ]
    }
   ],
   "source": [
    "run_tests(find_celebrity)"
   ]
  },
  {
   "cell_type": "code",
   "execution_count": null,
   "id": "2c53f714-f172-4c92-85ae-5c25f5500b29",
   "metadata": {},
   "outputs": [],
   "source": []
  }
 ],
 "metadata": {
  "kernelspec": {
   "display_name": "venv",
   "language": "python",
   "name": "venv"
  },
  "language_info": {
   "codemirror_mode": {
    "name": "ipython",
    "version": 3
   },
   "file_extension": ".py",
   "mimetype": "text/x-python",
   "name": "python",
   "nbconvert_exporter": "python",
   "pygments_lexer": "ipython3",
   "version": "3.9.13"
  }
 },
 "nbformat": 4,
 "nbformat_minor": 5
}
