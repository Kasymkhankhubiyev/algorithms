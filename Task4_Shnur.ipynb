{
 "cells": [
  {
   "cell_type": "markdown",
   "id": "3b2e5cf5-43aa-4271-b9e7-6f4974e3294e",
   "metadata": {},
   "source": [
    "# Бинарный подмассив"
   ]
  },
  {
   "cell_type": "markdown",
   "id": "bd95b91d-ec0f-4f24-9607-760357038f21",
   "metadata": {},
   "source": [
    "Дан массив длины n из нулей и единиц. Найдите в нем подмассив максимальной длины, \n",
    "в котором количество единиц равно количеству нулей.\n",
    "Ограниечениея: О() по времени, О(1) по дополнительной памяти"
   ]
  },
  {
   "cell_type": "code",
   "execution_count": null,
   "id": "3e860d2e-6a98-4243-a325-a9237fe91411",
   "metadata": {},
   "outputs": [],
   "source": []
  }
 ],
 "metadata": {
  "kernelspec": {
   "display_name": "venv",
   "language": "python",
   "name": "venv"
  },
  "language_info": {
   "codemirror_mode": {
    "name": "ipython",
    "version": 3
   },
   "file_extension": ".py",
   "mimetype": "text/x-python",
   "name": "python",
   "nbconvert_exporter": "python",
   "pygments_lexer": "ipython3",
   "version": "3.9.13"
  }
 },
 "nbformat": 4,
 "nbformat_minor": 5
}
