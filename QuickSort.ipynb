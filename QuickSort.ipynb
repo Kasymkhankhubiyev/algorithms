{
 "cells": [
  {
   "cell_type": "code",
   "execution_count": 1,
   "id": "14ff020c-4f9d-410f-8c49-14d517821d03",
   "metadata": {},
   "outputs": [],
   "source": [
    "import random"
   ]
  },
  {
   "cell_type": "code",
   "execution_count": 258,
   "id": "76461783-1de3-4b7e-ab7c-209e98e3f2a6",
   "metadata": {},
   "outputs": [],
   "source": [
    "def quick_sort(seq: 'list[int]', l=None, r=None, print_out=False) -> 'list[int]': \n",
    "    \n",
    "    if l is None and r is None:\n",
    "        l = 0\n",
    "        r = len(seq)-1\n",
    "    if len(seq[l:r+1]) <= 1:\n",
    "            return seq[:l] + sorted(seq[l:r+1]) + seq[r+1:]\n",
    "    else:\n",
    "        _lambda = random.randint(l, r)\n",
    "        _seq = seq[:l] + seq[l:_lambda] + seq[_lambda+1:r+1] + [seq[_lambda]] + seq[r+1:]\n",
    "        if print_out:\n",
    "            print(_seq, len(_seq), seq[_lambda], l, r)\n",
    "        i, j = l, l\n",
    "        for i in range(l, r):\n",
    "            if _seq[i] > _seq[r]:\n",
    "                continue\n",
    "            elif _seq[i] <= _seq[r]:\n",
    "                c = _seq[j]\n",
    "                _seq[j] = _seq[i]\n",
    "                _seq[i] = c\n",
    "                j += 1\n",
    "        c = _seq[j]\n",
    "        _seq[j] = _seq[r]\n",
    "        _seq[r] = c\n",
    "        if print_out:\n",
    "            print(_seq, len(_seq), seq[_lambda], l, r, '\\n\\n')\n",
    "        _seq = quick_sort(_seq, 0, j-1)\n",
    "        _seq = quick_sort(_seq, j+1, r)\n",
    "        return _seq"
   ]
  },
  {
   "cell_type": "code",
   "execution_count": 259,
   "id": "dbe0b627-a025-49a7-b9ea-25b276152d4e",
   "metadata": {},
   "outputs": [],
   "source": [
    "sequence = [1, 2, 34, 12, -1, 0, 2, -12, -3 ,234, 3, -56]"
   ]
  },
  {
   "cell_type": "code",
   "execution_count": 260,
   "id": "d2778e03-9b96-4763-bb18-60fd9da89fb9",
   "metadata": {},
   "outputs": [
    {
     "data": {
      "text/plain": [
       "[-56, -12, -3, -1, 0, 1, 2, 2, 3, 12, 34, 234]"
      ]
     },
     "execution_count": 260,
     "metadata": {},
     "output_type": "execute_result"
    }
   ],
   "source": [
    "quick_sort(sequence)"
   ]
  },
  {
   "cell_type": "code",
   "execution_count": 261,
   "id": "4f9471bf-b0eb-4696-a5c8-6ab3cfc3332b",
   "metadata": {},
   "outputs": [],
   "source": [
    "def check_sorted(res1: 'list[int]', res2: 'list[int]') -> bool:\n",
    "    if len(res1) != len(res2):\n",
    "        return False\n",
    "    for i in range(len(res1)):\n",
    "        if res1[i] != res2[i]:\n",
    "            return False\n",
    "    return True\n",
    "\n",
    "\n",
    "def test1(func) -> None:\n",
    "    sequence = [1, 2, 34, 12, -1, 0, 2, -12, -3 ,234, 3, -56]\n",
    "    res = func(sequence)\n",
    "    try:\n",
    "        assert check_sorted(sorted(sequence), res)\n",
    "        print('Test Passed')\n",
    "    except Exception:\n",
    "        print('Test not Passed')\n",
    "\n",
    "\n",
    "def test2(func) -> None:\n",
    "    sequense = [3, 40, -23, -1 , 23, 0, -12, 20, -2]\n",
    "    res = func(sequence)\n",
    "    try:\n",
    "        assert check_sorted(sorted(sequence), res)\n",
    "        print('Test Passed')\n",
    "    except Exception:\n",
    "        print('Test not Passed')\n",
    "\n",
    "\n",
    "def test3(func) -> None:\n",
    "    sequense = [12., 4.0, -2.3, -1. , 2.3, 0, -12, 20, -2]\n",
    "    res = func(sequence)\n",
    "    try:\n",
    "        assert check_sorted(sorted(sequence), res)\n",
    "        print('Test Passed')\n",
    "    except Exception:\n",
    "        print('Test not Passed')\n",
    "\n",
    "\n",
    "def test4(func) -> None:\n",
    "    sequense = [12, -40, -.3, -21 , 203, -120, 2.2, 20, -2]\n",
    "    res = func(sequence)\n",
    "    try:\n",
    "        assert check_sorted(sorted(sequence), res)\n",
    "        print('Test Passed')\n",
    "    except Exception:\n",
    "        print('Test not Passed')\n",
    "        \n",
    "\n",
    "def run_tests(func):\n",
    "    tests = [test1, test2, test3, test4]\n",
    "    count = 0\n",
    "    for i in range(len(tests)):\n",
    "        try:\n",
    "            tests[i](func)\n",
    "            count += 1\n",
    "        except Exception:\n",
    "            continue\n",
    "    print('\\n', f'Passed {count} out of {len(tests)}', sep='')"
   ]
  },
  {
   "cell_type": "code",
   "execution_count": 263,
   "id": "b549419a-add3-4a97-aede-d7b6c7d832f9",
   "metadata": {},
   "outputs": [
    {
     "name": "stdout",
     "output_type": "stream",
     "text": [
      "Test Passed\n",
      "Test Passed\n",
      "Test Passed\n",
      "Test Passed\n",
      "\n",
      "Passed 4 out of 4\n"
     ]
    }
   ],
   "source": [
    "run_tests(quick_sort)"
   ]
  },
  {
   "cell_type": "code",
   "execution_count": null,
   "id": "ee3ec334-549b-40f4-b3a0-cbf4c7e03e40",
   "metadata": {},
   "outputs": [],
   "source": []
  }
 ],
 "metadata": {
  "kernelspec": {
   "display_name": "venv",
   "language": "python",
   "name": "venv"
  },
  "language_info": {
   "codemirror_mode": {
    "name": "ipython",
    "version": 3
   },
   "file_extension": ".py",
   "mimetype": "text/x-python",
   "name": "python",
   "nbconvert_exporter": "python",
   "pygments_lexer": "ipython3",
   "version": "3.9.13"
  }
 },
 "nbformat": 4,
 "nbformat_minor": 5
}
