{
 "cells": [
  {
   "cell_type": "code",
   "execution_count": 1,
   "id": "14ff020c-4f9d-410f-8c49-14d517821d03",
   "metadata": {},
   "outputs": [],
   "source": [
    "import random"
   ]
  },
  {
   "cell_type": "code",
   "execution_count": null,
   "id": "76461783-1de3-4b7e-ab7c-209e98e3f2a6",
   "metadata": {},
   "outputs": [],
   "source": [
    "def quick_sort(seq: 'list[int]') -> 'list[int]': \n",
    "    _lambda = random.randint(1, len(seq))\n",
    "    "
   ]
  }
 ],
 "metadata": {
  "kernelspec": {
   "display_name": "venv",
   "language": "python",
   "name": "venv"
  },
  "language_info": {
   "codemirror_mode": {
    "name": "ipython",
    "version": 3
   },
   "file_extension": ".py",
   "mimetype": "text/x-python",
   "name": "python",
   "nbconvert_exporter": "python",
   "pygments_lexer": "ipython3",
   "version": "3.9.13"
  }
 },
 "nbformat": 4,
 "nbformat_minor": 5
}
