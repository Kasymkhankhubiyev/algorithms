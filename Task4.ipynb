{
 "cells": [
  {
   "cell_type": "markdown",
   "id": "c0387d20-4683-4076-a345-5fb19178f3e8",
   "metadata": {},
   "source": [
    "# BFS Breadth First Search"
   ]
  },
  {
   "cell_type": "markdown",
   "id": "0ac9bf49-521e-484b-8c40-7641f6753b08",
   "metadata": {},
   "source": [
    "Реализовать поиск в ширину (BFS) в графе. Структуру представления графа можно выбрать любой. Для реализации может пригодиться структура данных queue/dequeue. (2 балла)"
   ]
  },
  {
   "cell_type": "code",
   "execution_count": 189,
   "id": "1ab20cf2-f21c-4ce1-a539-3ae7bb0791d3",
   "metadata": {},
   "outputs": [],
   "source": [
    "def BFS(graph_matrix, start, end, visited=None, is_start=True):\n",
    "    \"\"\"\n",
    "        Логика такая - пробегаем по всем соседним вершинам текущей вершины, обновляя веса,\n",
    "        посещенная вершина помечается и передается далее, чтобы не было петель.\n",
    "\n",
    "        В данной реализации происходит \"обратное\" разворачивание - сначала идем до конца и собираем путь.\n",
    "    \"\"\"\n",
    "    # контейнер путей\n",
    "    pathes = []\n",
    "    \n",
    "    # контейнер весов\n",
    "    weights = []\n",
    "\n",
    "    # при первом заходе посещена только самая первая вершина\n",
    "    if visited is None:\n",
    "        visited = [start]\n",
    "    else:\n",
    "        # если это не конечная точка - добавим ее в посещенные\n",
    "        if start != end:\n",
    "            visited.append(start)\n",
    "    for i in range(0, len(graph_matrix[start])):\n",
    "        # идем только по ранее не посещенным\n",
    "        if graph_matrix[start][i] != 0 and i not in visited: # and start != end:\n",
    "            if start == end:\n",
    "                continue\n",
    "            # идем далее\n",
    "            _pathes, _weights = BFS(graph_matrix, i, end, visited, False)\n",
    "            # print( _pathes, _weights, start)\n",
    "            # получаем пути и добавляем текущую першину\n",
    "            if _pathes is not None:\n",
    "                for _path, _weight in zip(_pathes, _weights):\n",
    "                    pathes.append([start] + _path)\n",
    "                    weights.append(_weight + graph_matrix[start][i])\n",
    "                    # print(pathes, weights)\n",
    "\n",
    "\n",
    "    # если не первый заход\n",
    "    if not is_start:\n",
    "        if start == end:\n",
    "                return [[end]], [0]\n",
    "        else:\n",
    "            return pathes, weights\n",
    "\n",
    "    # собираем все пути и веса\n",
    "    output = [[_path, _w] for (_path, _w) in zip(pathes, weights)]\n",
    "    # сортируем по убыванию\n",
    "    output.sort(key=lambda x: x[-1])\n",
    "    print(output)\n",
    "    # берем путь с наименьшим весом\n",
    "    min_weight = output[0][-1]\n",
    "    min_num = len(output[0][0])\n",
    "    min_route = output[0]\n",
    "    # если несколько путей с одинаковым весом, берем тот \n",
    "    # у которого количество граней минимально\n",
    "    for i in range(len(output)):\n",
    "        if output[i][-1]>min_weight:\n",
    "            break\n",
    "        else:\n",
    "            if len(output[i][0]) < min_num:\n",
    "                min_num = len(output[i][0])\n",
    "                min_route = output[i]\n",
    "            \n",
    "    return min_route\n",
    "            "
   ]
  },
  {
   "cell_type": "code",
   "execution_count": 200,
   "id": "f4e02c2e-8d1c-4a10-8ac6-4060c52bc540",
   "metadata": {},
   "outputs": [
    {
     "name": "stdout",
     "output_type": "stream",
     "text": [
      "[[[0, 1, 4, 6, 7, 5], 5], [[0, 2, 5], 5]]\n"
     ]
    },
    {
     "data": {
      "text/plain": [
       "[[0, 2, 5], 5]"
      ]
     },
     "execution_count": 200,
     "metadata": {},
     "output_type": "execute_result"
    }
   ],
   "source": [
    "matrix = [[0, 1, 2, 3, 0, 0, 0, 0],\n",
    "          [1, 0, 0, 0, 1, 0, 0, 0],\n",
    "          [2, 0, 0, 3, 0, 3, 0, 0],\n",
    "          [3, 0, 3, 0, 0, 0, 0, 0],\n",
    "          [0, 1, 0, 0, 0, 0, 1, 0],\n",
    "          [0, 0, 3, 0, 0, 0, 0, 1],\n",
    "          [0, 0, 0, 0, 1, 0, 0, 1],\n",
    "          [0, 0, 0, 0, 0, 1, 1, 0]]\n",
    "    \n",
    "BFS(matrix, 0, 5)"
   ]
  },
  {
   "cell_type": "code",
   "execution_count": 201,
   "id": "7c0860d0-49f4-4ed3-a38b-7a5f951fb359",
   "metadata": {},
   "outputs": [],
   "source": [
    "def check_results(res1: 'list[list[int], int]', res2: 'list[list[int], int]') -> bool:\n",
    "    if len(res1[0]) != len(res2[0]):\n",
    "        return False\n",
    "    if res1[1] != res2[1]:\n",
    "        return False\n",
    "    for i in range(len(res1[0])):\n",
    "        if res1[0][i] != res2[0][i]:\n",
    "            return False\n",
    "    return True\n",
    "\n",
    "def test1(func)-> None:\n",
    "    matrix = [[0, 1, 0], \n",
    "              [1, 0, 2], \n",
    "              [0, 2, 0]]\n",
    "    \n",
    "    result = func(matrix, 0, 2)\n",
    "    try:\n",
    "        assert check_results([[0, 1, 2], 3], result)\n",
    "        print('Test passed')\n",
    "    except Exception:\n",
    "        print('Test not passed')\n",
    "\n",
    "\n",
    "def test2(func) -> None:\n",
    "    matrix = [[0, 1, 1, 2, 5, 1, 0, 0],\n",
    "              [1, 0, 0, 0, 0, 0, 0, 0],\n",
    "              [1, 0, 0, 0, 0, 0, 0, 0],\n",
    "              [1, 0, 0, 0, 0, 0, 3, 6],\n",
    "              [1, 0, 0, 0, 0, 7, 0, 0],\n",
    "              [1, 0, 0, 0, 7, 0, 0, 0],\n",
    "              [0, 0, 0, 3, 0, 0, 0, 2],\n",
    "              [0, 0, 0, 6, 0, 0, 2, 0]]\n",
    "    \n",
    "    result = func(matrix, 0, 7)\n",
    "    try:\n",
    "        assert check_results([[0, 3, 6, 7], 7], result)\n",
    "        print('Test passed')\n",
    "    except Exception:\n",
    "        print('Test not passed')\n",
    "\n",
    "\n",
    "def test3(func) -> None:\n",
    "    matrix = [[0, 1, 2, 3, 0, 0, 0, 0],\n",
    "              [1, 0, 0, 0, 1, 0, 0, 0],\n",
    "              [2, 0, 0, 3, 0, 3, 0, 0],\n",
    "              [3, 0, 3, 0, 0, 0, 0, 0],\n",
    "              [0, 1, 0, 0, 0, 0, 1, 0],\n",
    "              [0, 0, 3, 0, 0, 0, 0, 1],\n",
    "              [0, 0, 0, 0, 1, 0, 0, 1],\n",
    "              [0, 0, 0, 0, 0, 1, 1, 0]]\n",
    "    \n",
    "    result = func(matrix, 0, 5)\n",
    "    try:\n",
    "        assert check_results([[0, 2, 5], 5], result)\n",
    "        print('Test passed')\n",
    "    except Exception:\n",
    "        print('Test not passed')"
   ]
  },
  {
   "cell_type": "code",
   "execution_count": 202,
   "id": "6f7e7066-fffb-444f-9cf2-7d71ac10c007",
   "metadata": {},
   "outputs": [
    {
     "name": "stdout",
     "output_type": "stream",
     "text": [
      "[[[0, 1, 2], 3]]\n",
      "Test passed\n",
      "[[[0, 3, 6, 7], 7], [[0, 3, 7], 8]]\n",
      "Test passed\n",
      "[[[0, 1, 4, 6, 7, 5], 5], [[0, 2, 5], 5]]\n",
      "Test passed\n"
     ]
    }
   ],
   "source": [
    "test1(BFS)\n",
    "test2(BFS)\n",
    "test3(BFS)"
   ]
  },
  {
   "cell_type": "markdown",
   "id": "231b52da-4e9c-4f73-8fed-539e483a4db5",
   "metadata": {},
   "source": [
    "# DFS"
   ]
  },
  {
   "cell_type": "markdown",
   "id": "8f9673e5-74dc-4373-9239-f98f14872855",
   "metadata": {},
   "source": [
    "Построить блок-схему для поиска в графе в глубину(DFS) (2 балла)"
   ]
  },
  {
   "cell_type": "code",
   "execution_count": null,
   "id": "86f2fd1d-4d65-45a3-bb77-a4d04670fa05",
   "metadata": {},
   "outputs": [],
   "source": []
  },
  {
   "cell_type": "markdown",
   "id": "ce6adef0-b24e-4ae5-9927-3837f5f50d87",
   "metadata": {},
   "source": [
    "# асимптотическая сложность -- O(V+E)"
   ]
  },
  {
   "cell_type": "markdown",
   "id": "8d26c222-aeed-4463-bc55-58f31b333743",
   "metadata": {},
   "source": [
    "Граф G(V, E) задан в виде [0:{}, 1:{i, j, ...}, ..., n:{k, l, ...}]. Построить графики времени обхода соседей для каждой вершины в зависимости от количества вершин и ребер. Требуется показать, что асимптотическая сложность -- O(V+E) (3 балла)"
   ]
  },
  {
   "cell_type": "code",
   "execution_count": null,
   "id": "11ebc582-e869-48a2-b0b9-396388851cd4",
   "metadata": {},
   "outputs": [],
   "source": []
  },
  {
   "cell_type": "markdown",
   "id": "0f23a94d-eef6-4799-ac51-9252f6029eba",
   "metadata": {},
   "source": [
    "# двудольность графа"
   ]
  },
  {
   "cell_type": "markdown",
   "id": "84ca6420-96d4-4ed4-9f00-9e0edff92a01",
   "metadata": {},
   "source": [
    "Во время контрольной работы профессор Шнурников заметил, что некоторые студенты обмениваются записками. Сначала он хотел поставить им всем двойки, но в тот день профессор был добрым, а потому решил разделить студентов на две группы: списывающих и дающих списывать, и поставить двойки только первым. У профессора записаны все пары студентов, обменявшихся записками. Требуется определить, сможет ли он разделить студентов на две группы так, чтобы любой обмен записками осуществлялся от студента одной группы студенту другой группы. (Возможное решение -- показать двудольность графа) (2 балла)"
   ]
  },
  {
   "cell_type": "code",
   "execution_count": null,
   "id": "4ccef5ad-8ec1-44d9-bb02-b1326206936d",
   "metadata": {},
   "outputs": [],
   "source": []
  }
 ],
 "metadata": {
  "kernelspec": {
   "display_name": "venv",
   "language": "python",
   "name": "venv"
  },
  "language_info": {
   "codemirror_mode": {
    "name": "ipython",
    "version": 3
   },
   "file_extension": ".py",
   "mimetype": "text/x-python",
   "name": "python",
   "nbconvert_exporter": "python",
   "pygments_lexer": "ipython3",
   "version": "3.9.13"
  }
 },
 "nbformat": 4,
 "nbformat_minor": 5
}
