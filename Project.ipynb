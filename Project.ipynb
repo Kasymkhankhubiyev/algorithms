{
 "cells": [
  {
   "cell_type": "code",
   "execution_count": 1,
   "id": "1b5eade3-70b1-479a-887d-c18b6efe2db7",
   "metadata": {},
   "outputs": [],
   "source": [
    "import time\n",
    "import os\n",
    "import matplotlib.pyplot as plt"
   ]
  },
  {
   "cell_type": "code",
   "execution_count": 2,
   "id": "af9eec45-75f3-4632-8474-7752d5e37e06",
   "metadata": {},
   "outputs": [],
   "source": [
    "def levenstein(str_1, str_2):\n",
    "    n, m = len(str_1), len(str_2)\n",
    "    if n > m:\n",
    "        str_1, str_2 = str_2, str_1\n",
    "        n, m = m, n\n",
    "\n",
    "    current_row = range(n + 1)\n",
    "    for i in range(1, m + 1):\n",
    "        previous_row, current_row = current_row, [i] + [0] * n\n",
    "        for j in range(1, n + 1):\n",
    "            add, delete, change = previous_row[j] + 1, current_row[j - 1] + 1, previous_row[j - 1]\n",
    "            if str_1[j - 1] != str_2[i - 1]:\n",
    "                change += 1\n",
    "            current_row[j] = min(add, delete, change)\n",
    "\n",
    "    return current_row[n]"
   ]
  },
  {
   "cell_type": "code",
   "execution_count": 3,
   "id": "435a9db9-952a-4775-a788-76baa95030ab",
   "metadata": {},
   "outputs": [
    {
     "name": "stdout",
     "output_type": "stream",
     "text": [
      "CPU times: user 63 µs, sys: 1 µs, total: 64 µs\n",
      "Wall time: 67.9 µs\n"
     ]
    },
    {
     "data": {
      "text/plain": [
       "5"
      ]
     },
     "execution_count": 3,
     "metadata": {},
     "output_type": "execute_result"
    }
   ],
   "source": [
    "%%time\n",
    "levenstein('гибралтар','лабрадор')"
   ]
  },
  {
   "cell_type": "code",
   "execution_count": 5,
   "id": "3d6afee2-2910-4556-b767-33d8e75e1d99",
   "metadata": {},
   "outputs": [],
   "source": [
    "def Hirshberg(str1, str2):\n",
    "    n, m = len(str1), len(str2)\n",
    "    if m <= 1 or n <= 1:\n",
    "        return max(m, n) - 1 if ((str1 in str2 or str2 in str1) and (n != 0 and m != 0)) else max(m, n)\n",
    "    if n > m:\n",
    "        str1, str2 = str2, str1\n",
    "        n, m = m, n\n",
    "\n",
    "    split_index = m // 2\n",
    "    left_row =  [i for i in range(n + 1)]\n",
    "    right_row = [i for i in range(n + 1)]\n",
    "    for i in range(m // 2):\n",
    "        prev_l_row, left_row = left_row, [i] + [0] * n\n",
    "        prev_r_row, rigth_row = right_row, [i] + [0] * n\n",
    "        for j in range(n + 1):\n",
    "            add, delete, change = prev_l_row[j] + 1, left_row[j - 1] + 1, left_row[j - 1]\n",
    "            if str1[j - 1] != str2[i - 1]:\n",
    "                change += 1\n",
    "            left_row[j] = min(add, delete, change)\n",
    "            \n",
    "            add, delete, change = prev_r_row[j] + 1, right_row[j - 1] + 1, right_row[j - 1]\n",
    "            if str1[j - 1] != str2[m - i - 1]:\n",
    "                change += 1\n",
    "            right_row[j] = min(add, delete, change)\n",
    "\n",
    "    for i in range(n+1):\n",
    "        left_row[i] += right_row[i]\n",
    "\n",
    "    return min(left_row)"
   ]
  },
  {
   "cell_type": "code",
   "execution_count": 6,
   "id": "5cb969fe-303a-47c8-9c18-6614cbc66769",
   "metadata": {},
   "outputs": [
    {
     "name": "stdout",
     "output_type": "stream",
     "text": [
      "CPU times: user 171 µs, sys: 2 µs, total: 173 µs\n",
      "Wall time: 179 µs\n"
     ]
    },
    {
     "data": {
      "text/plain": [
       "5"
      ]
     },
     "execution_count": 6,
     "metadata": {},
     "output_type": "execute_result"
    }
   ],
   "source": [
    "%%time\n",
    "Hirshberg('гибралтар','лабрадор')\n",
    "# Hirshberg('c','bas')"
   ]
  },
  {
   "cell_type": "code",
   "execution_count": 10,
   "id": "fa731f9a-9c95-461e-a5b3-e4d388faa69a",
   "metadata": {},
   "outputs": [],
   "source": [
    "text1 = './text1.txt'\n",
    "text2 = './text2.txt'"
   ]
  },
  {
   "cell_type": "code",
   "execution_count": 12,
   "id": "6707755c-fe9e-4bd6-b6f5-86e4861e34dd",
   "metadata": {},
   "outputs": [],
   "source": [
    "text_1 = ''\n",
    "with open(text1, 'r') as file:\n",
    "    lines = file.readlines()\n",
    "    for line in lines:\n",
    "        text_1 += line.replace('\\n', '').strip() + ' '\n",
    "\n",
    "text_2 = ''\n",
    "with open(text2, 'r') as file:\n",
    "    lines = file.readlines()\n",
    "    for line in lines:\n",
    "        text_2 += line.replace('\\n', '').strip() + ' '"
   ]
  },
  {
   "cell_type": "code",
   "execution_count": 13,
   "id": "15c11715-5dd5-4a02-8c57-808a5b37e514",
   "metadata": {},
   "outputs": [
    {
     "data": {
      "text/plain": [
       "(44559, 48090)"
      ]
     },
     "execution_count": 13,
     "metadata": {},
     "output_type": "execute_result"
    }
   ],
   "source": [
    "len(text_2), len(text_1)"
   ]
  },
  {
   "cell_type": "code",
   "execution_count": 14,
   "id": "9959a647-5646-4088-9068-433b2a640dc7",
   "metadata": {},
   "outputs": [],
   "source": [
    "n, m = 5, 7\n",
    "w_length = []\n",
    "w_diff = []\n",
    "steps = []\n",
    "times = []\n",
    "while(n < len(text_1) and m < len(text_2)):\n",
    "    w_length.append(n)\n",
    "    w_diff.append(m-n)\n",
    "    str_1 = text_1[:n]\n",
    "    str_2 = text_2[:m]\n",
    "    start = time.time()\n",
    "    step = levenstein(str_1, str_2)\n",
    "    times.append(time.time() - start)\n",
    "    n *= 2\n",
    "    m *= 2"
   ]
  },
  {
   "cell_type": "code",
   "execution_count": 16,
   "id": "3fd33768-6255-4a54-86c0-e61b447ee24a",
   "metadata": {},
   "outputs": [],
   "source": [
    "n, m = 5, 7\n",
    "w_2_length = []\n",
    "w_2_diff = []\n",
    "times_2 = []\n",
    "while(n < len(text_1) and m < len(text_2)):\n",
    "    w_2_length.append(n)\n",
    "    w_2_diff.append(m-n)\n",
    "    str_1 = text_1[:n]\n",
    "    str_2 = text_2[:m]\n",
    "    start = time.time()\n",
    "    Hirshberg(str_1, str_2)\n",
    "    times_2.append(time.time() - start)\n",
    "    n *= 2\n",
    "    m *= 2"
   ]
  },
  {
   "cell_type": "code",
   "execution_count": 35,
   "id": "228f5551-52ca-41a9-9cc2-55ee0a6cdca6",
   "metadata": {},
   "outputs": [
    {
     "data": {
      "image/png": "[encoded data removed]",
      "text/plain": [
       "<Figure size 1200x400 with 2 Axes>"
      ]
     },
     "metadata": {},
     "output_type": "display_data"
    }
   ],
   "source": [
    "fig, axs = plt.subplots(ncols=2, nrows=1, figsize=(12, 4))\n",
    "axs[0].plot(w_length, times, label='Vagner-Fisher')\n",
    "axs[0].plot(w_2_length, times_2, label='Hirshberg')\n",
    "# axs[0].set_yscale('log')\n",
    "axs[0].set_xlabel('string length')\n",
    "axs[0].set_ylabel('time')\n",
    "axs[0].legend()\n",
    "\n",
    "axs[1].plot(w_diff, times, label='Vagner-Fisher')\n",
    "axs[1].plot(w_2_diff, times_2, label='Hirshberg')\n",
    "# axs[1].set_yscale('log')\n",
    "axs[1].set_xlabel('string lengths difference')\n",
    "axs[1].set_ylabel('time')\n",
    "axs[1].legend()\n",
    "\n",
    "plt.show()\n"
   ]
  },
  {
   "cell_type": "code",
   "execution_count": 40,
   "id": "9c322d8e-72ee-432f-879e-59d9b86452ae",
   "metadata": {},
   "outputs": [
    {
     "data": {
      "image/png": "[encoded data removed]",
      "text/plain": [
       "<Figure size 640x480 with 1 Axes>"
      ]
     },
     "metadata": {},
     "output_type": "display_data"
    }
   ],
   "source": [
    "import matplotlib.pyplot as plt\n",
    "im = plt.imread('./qrcode.png')\n",
    "plt.imshow(im, cmap='gray', interpolation='nearest')\n",
    "plt.title('github')\n",
    "plt.xticks([])\n",
    "plt.yticks([])\n",
    "plt.box(False)\n",
    "plt.tight_layout()"
   ]
  },
  {
   "cell_type": "code",
   "execution_count": null,
   "id": "07d812b8-5c5e-47d4-9afa-aee9a627fc09",
   "metadata": {},
   "outputs": [],
   "source": []
  }
 ],
 "metadata": {
  "kernelspec": {
   "display_name": "venv",
   "language": "python",
   "name": "venv"
  },
  "language_info": {
   "codemirror_mode": {
    "name": "ipython",
    "version": 3
   },
   "file_extension": ".py",
   "mimetype": "text/x-python",
   "name": "python",
   "nbconvert_exporter": "python",
   "pygments_lexer": "ipython3",
   "version": "3.9.13"
  }
 },
 "nbformat": 4,
 "nbformat_minor": 5
}
