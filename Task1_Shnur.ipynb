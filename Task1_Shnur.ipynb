{
 "cells": [
  {
   "cell_type": "markdown",
   "id": "aad56fce-77f7-4590-b166-d855bd69df6c",
   "metadata": {},
   "source": [
    "# Сортировка за линейное время"
   ]
  },
  {
   "cell_type": "markdown",
   "id": "54bef6f5-dd51-4aa0-a28c-31d6c7ac2066",
   "metadata": {},
   "source": [
    "Дан массив из n целых чисел. Предложите алгоритм, сортирующий их по остатку при делении на 5 за время O(n) (в каком порядке будут расположены числа имеющие одинаковый остаток, не важно). Ограничение по дополнительно памяти O(1)"
   ]
  },
  {
   "cell_type": "code",
   "execution_count": 61,
   "id": "54b82c02-aada-4df6-9ebc-ec50d1635c48",
   "metadata": {},
   "outputs": [],
   "source": [
    "def linear_sort(seq):\n",
    "    idx1, idx2, idx3 = 0, 0, 0\n",
    "    for i in range(len(seq)):\n",
    "        if seq[i] % 5 == 0:\n",
    "            seq.insert(0, seq[i])\n",
    "            seq.pop(i+1)\n",
    "            idx1 += 1\n",
    "            idx2 += 1\n",
    "            idx3 += 1\n",
    "        elif seq[i] % 5 == 1:\n",
    "            seq.insert(idx1, seq[i])\n",
    "            seq.pop(i+1)\n",
    "            idx2 += 1\n",
    "            idx3 += 1\n",
    "        elif seq[i] % 5 == 2:\n",
    "            seq.insert(idx2, seq[i])\n",
    "            seq.pop(i+1)\n",
    "            idx3+= 1\n",
    "        elif seq[i] % 5 == 3:\n",
    "            seq.insert(idx3, seq[i])\n",
    "            seq.pop(i+1)\n",
    "        elif seq[i] % 5 == 4:\n",
    "            seq.append(seq[i])\n",
    "            seq.pop(i)\n",
    "    return seq"
   ]
  },
  {
   "cell_type": "code",
   "execution_count": 69,
   "id": "960c7533-cb3d-4237-8555-46009a4b0d3d",
   "metadata": {},
   "outputs": [],
   "source": [
    "seq = [1, 2, 3, 4, 5, 6, 7, 8, 9, 10]"
   ]
  },
  {
   "cell_type": "code",
   "execution_count": 70,
   "id": "6cafcc89-6a5c-4861-8984-0b8cea016b31",
   "metadata": {},
   "outputs": [
    {
     "data": {
      "text/plain": [
       "[6, 1, 7, 2, 8, 3, 5, 10, 9, 4]"
      ]
     },
     "execution_count": 70,
     "metadata": {},
     "output_type": "execute_result"
    }
   ],
   "source": [
    "linear_sort(seq)"
   ]
  },
  {
   "cell_type": "code",
   "execution_count": 71,
   "id": "e5927813-333e-443c-b719-3ac2cf091ab9",
   "metadata": {},
   "outputs": [],
   "source": [
    "def check_seq(res1, res2) -> bool:\n",
    "    if len(res1) != len(res2):\n",
    "        return False\n",
    "    for i in range(len(res1)):\n",
    "        if res1[i] != res2[i]:\n",
    "            return False\n",
    "    return True\n",
    "\n",
    "\n",
    "def test1(func)->None:\n",
    "    seq = [1, 2, 3, 4, 5, 6, 7, 8, 9, 10]\n",
    "    res = func(seq)\n",
    "    seq.sort(key=lambda x: x%5)\n",
    "    print(seq, res)\n",
    "    try:\n",
    "        assert check_seq(seq, res)\n",
    "        print('Test passed')\n",
    "    except Exception:\n",
    "        print('Test not passed')\n",
    "\n"
   ]
  },
  {
   "cell_type": "code",
   "execution_count": 72,
   "id": "63fc3564-9b66-4a6b-a72f-30c4ff43295c",
   "metadata": {},
   "outputs": [
    {
     "name": "stdout",
     "output_type": "stream",
     "text": [
      "[5, 10, 6, 1, 7, 2, 8, 3, 9, 4] [5, 10, 6, 1, 7, 2, 8, 3, 9, 4]\n",
      "Test passed\n"
     ]
    }
   ],
   "source": [
    "test1(linear_sort)"
   ]
  },
  {
   "cell_type": "code",
   "execution_count": null,
   "id": "fe97d178-a58a-4e25-abaa-8bd39c6c2684",
   "metadata": {},
   "outputs": [],
   "source": []
  }
 ],
 "metadata": {
  "kernelspec": {
   "display_name": "venv",
   "language": "python",
   "name": "venv"
  },
  "language_info": {
   "codemirror_mode": {
    "name": "ipython",
    "version": 3
   },
   "file_extension": ".py",
   "mimetype": "text/x-python",
   "name": "python",
   "nbconvert_exporter": "python",
   "pygments_lexer": "ipython3",
   "version": "3.9.13"
  }
 },
 "nbformat": 4,
 "nbformat_minor": 5
}
