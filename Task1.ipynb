{
 "cells": [
  {
   "cell_type": "code",
   "execution_count": 2,
   "id": "680d2175-ee01-4d65-8457-9042822a06d3",
   "metadata": {},
   "outputs": [
    {
     "name": "stdout",
     "output_type": "stream",
     "text": [
      "Python 3.11.5\n"
     ]
    }
   ],
   "source": [
    "!python3 --version"
   ]
  },
  {
   "cell_type": "code",
   "execution_count": 37,
   "id": "8957bfc6-eac5-47a2-b8a2-01f5db291fb3",
   "metadata": {},
   "outputs": [],
   "source": [
    "import matplotlib.pyplot as plt\n",
    "import pandas as pd\n",
    "import numpy as np\n",
    "\n",
    "import datetime\n",
    "import time\n",
    "import os"
   ]
  },
  {
   "cell_type": "markdown",
   "id": "3f35eb0d-464d-4f2c-8e65-0229a47e5c15",
   "metadata": {},
   "source": [
    "# Посчитать сложность алгоритма для альфы"
   ]
  },
  {
   "cell_type": "markdown",
   "id": "c5e54e2a-300f-4dd8-b116-d07cb666a3bf",
   "metadata": {},
   "source": [
    "## Create Dataset"
   ]
  },
  {
   "cell_type": "code",
   "execution_count": 8,
   "id": "dc525a1d-a66b-4ef3-8ee3-b371e669e63d",
   "metadata": {},
   "outputs": [
    {
     "data": {
      "text/plain": [
       "['Open.csv', 'High.csv', 'Close.csv', 'Low.csv', 'Volume.csv']"
      ]
     },
     "execution_count": 8,
     "metadata": {},
     "output_type": "execute_result"
    }
   ],
   "source": [
    "dataset_dir = './USA_2010-2014_HLOCV'\n",
    "os.listdir(dataset_dir)"
   ]
  },
  {
   "cell_type": "code",
   "execution_count": 9,
   "id": "1bbd7f02-7891-41c6-b665-06d774bc32ab",
   "metadata": {},
   "outputs": [],
   "source": [
    "open_df = pd.read_csv(dataset_dir + '/Open.csv')\n",
    "high_df = pd.read_csv(dataset_dir + '/High.csv')\n",
    "close_df = pd.read_csv(dataset_dir + '/Close.csv')\n",
    "low_df = pd.read_csv(dataset_dir + '/Low.csv')\n",
    "volume_df = pd.read_csv(dataset_dir + '/Volume.csv')\n",
    "\n",
    "volume = volume_df.drop(volume_df.columns[0], axis=1).to_numpy().T\n",
    "close = close_df.drop(close_df.columns[0], axis=1).to_numpy().T\n",
    "high = high_df.drop(high_df.columns[0], axis=1).to_numpy().T\n",
    "low = low_df.drop(low_df.columns[0], axis=1).to_numpy().T"
   ]
  },
  {
   "cell_type": "markdown",
   "id": "83c26902-158d-4050-af16-63a2fb1b38c3",
   "metadata": {},
   "source": [
    "## Alpha 28\n",
    "\n",
    "**scale(((correlation(adv20, low, 5) + ((high + low) / 2)) - close))**"
   ]
  },
  {
   "cell_type": "code",
   "execution_count": 11,
   "id": "8f49bbe7-5e4a-48c1-86b1-1f6a9af2cf6e",
   "metadata": {},
   "outputs": [],
   "source": [
    "def neutralize(alpha):\n",
    "    if len(alpha.shape) == 1:\n",
    "        if not np.array_equal(alpha, np.zeros_like(alpha)): # 2m\n",
    "            return alpha - (alpha.sum() / len(alpha)) # 2m\n",
    "        else:\n",
    "            return alpha\n",
    "    else: # if alpha is a matrix of states\n",
    "        alpha_states_neutralized = np.array([neutralize(_alpha) for _alpha in alpha])\n",
    "        return alpha_states_neutralized"
   ]
  },
  {
   "cell_type": "code",
   "execution_count": 12,
   "id": "8c83c54f-eb22-4a33-933b-aa8efb2461f0",
   "metadata": {},
   "outputs": [],
   "source": [
    "def neutralize_with_dropout(alpha, true_false_vector):\n",
    "    if len(alpha.shape) == 1:\n",
    "        indexes = [j for j in range(len(true_false_vector)) if true_false_vector[j] == 1] # m\n",
    "\n",
    "        _alpha =  alpha[indexes] # zeros_num\n",
    "        _alpha = neutralize(_alpha) # 2m\n",
    "\n",
    "        for _idx, idx in enumerate(indexes): # zeros_num\n",
    "            alpha[idx] = _alpha[_idx]\n",
    "\n",
    "        return alpha # 3*m + 2 * zeros_num\n",
    "\n",
    "    else:\n",
    "\n",
    "        new_alpha = np.zeros_like(alpha)  # n * m\n",
    "\n",
    "        for idx, (_alpha, zeros_vec) in enumerate(zip(alpha, true_false_vector)): # n\n",
    "            if not np.array_equal(_alpha, np.zeros_like(_alpha)): # 2*m\n",
    "                new_alpha[idx] += neutralize_with_dropout(_alpha, zeros_vec) # 3*m + 2 * zeros_num\n",
    "\n",
    "        return new_alpha # n (5* m + 2 * zeros_num)\n"
   ]
  },
  {
   "cell_type": "code",
   "execution_count": 59,
   "id": "d1580c54-4ca9-4f71-91b9-c369f0b2cf38",
   "metadata": {},
   "outputs": [],
   "source": [
    "def normalize(alpha):\n",
    "    if len(alpha.shape) == 1:\n",
    "        return alpha / np.abs(alpha).sum()\n",
    "    \n",
    "    else:\n",
    "        alpha_states_normalized = np.zeros_like(alpha)\n",
    "\n",
    "        for idx, _alpha in enumerate(alpha): # n\n",
    "\n",
    "            if np.abs(_alpha).sum() != 0: # m\n",
    "                alpha_states_normalized[idx] += _alpha / np.abs(_alpha).sum() # m\n",
    "            else:\n",
    "                alpha_states_normalized[idx] += _alpha\n",
    "\n",
    "        return alpha_states_normalized # n * 2*m"
   ]
  },
  {
   "cell_type": "code",
   "execution_count": 60,
   "id": "700ee85b-7d87-4692-8c4b-a3b637e5c4e4",
   "metadata": {},
   "outputs": [],
   "source": [
    "def average_dayly_volume(volume, day_step):\n",
    "    adv = np.zeros_like(volume)\n",
    "    for i in range(day_step, len(volume)): # (n - w) * w\n",
    "        adv[i] = volume[i-day_step:i].mean(axis=0)\n",
    "    return adv"
   ]
  },
  {
   "cell_type": "code",
   "execution_count": 61,
   "id": "a7ddd393-da9b-429d-af0c-893adcc8618a",
   "metadata": {},
   "outputs": [],
   "source": [
    "def ts_correlation(x, y):\n",
    "    corr_vec = np.zeros(x.shape[1])\n",
    "    for idx, (_x, _y) in enumerate(zip(x, y)):\n",
    "        corr_vec[idx] = calc_alphas_corr(_x, _y) # 4m\n",
    "    return corr_vec # c_w * 4m"
   ]
  },
  {
   "cell_type": "code",
   "execution_count": 62,
   "id": "a176d26d-83db-4299-bfca-f76763a3937b",
   "metadata": {},
   "outputs": [],
   "source": [
    "def scale(matrix, a):\n",
    "    for i in range(len(matrix)):\n",
    "        if np.abs(matrix[i]).sum() != 0:\n",
    "            matrix[i] = matrix[i] * 2 / np.abs(matrix[i]).sum()\n",
    "    return matrix"
   ]
  },
  {
   "cell_type": "code",
   "execution_count": 63,
   "id": "cb845aa0-235a-47ee-98a1-00fe6f6b1bbb",
   "metadata": {},
   "outputs": [],
   "source": [
    "def calc_alphas_corr(alpha1, alpha2):\n",
    "    def std (vector): # m + m\n",
    "        return np.sqrt(np.sum((vector - vector.mean())**2) / (len(vector) - 1))\n",
    "    # 2m\n",
    "    corr = np.sum((alpha1 - alpha1.mean()) * (alpha2 - alpha2.mean())) / (std(alpha1) * std(alpha2))\n",
    "\n",
    "    return corr # 4m"
   ]
  },
  {
   "cell_type": "code",
   "execution_count": 64,
   "id": "48ff43c6-3449-4155-9a80-b229d7219570",
   "metadata": {},
   "outputs": [],
   "source": [
    "def decay (alpha_matrix, n):\n",
    "    factors = (np.arange(1, n + 2)) / (n+1) # d_w\n",
    "\n",
    "    _new_alpha_states = alpha_matrix.copy()\n",
    "\n",
    "    for idx in range(n+1, len(alpha_matrix)): # n - d_w\n",
    "        _alpha = alpha_matrix[idx-n-1:idx] * np.array([factors]).T # d_w * m\n",
    "        if not np.array_equal(_alpha, np.zeros_like(_alpha)): # 2 * d_w * m\n",
    "            _new_alpha_states[idx] = _alpha.sum(axis=0) # m\n",
    "    \n",
    "    return _new_alpha_states # (n - d_w) * (3 * d_w * m + m)"
   ]
  },
  {
   "cell_type": "code",
   "execution_count": 65,
   "id": "cad7822f-5e02-412c-b8fc-abe587e38982",
   "metadata": {},
   "outputs": [],
   "source": [
    "def CutMiddle(alpha, n):\n",
    "\n",
    "    if len(alpha.shape) == 1:\n",
    "\n",
    "        indexes = np.argsort(alpha)\n",
    "        false_true_vec = np.ones(len(indexes))\n",
    "\n",
    "        borders = [len(alpha) // 2 - n // 2, len(alpha) // 2 + n // 2 + n%2]\n",
    "\n",
    "        _indexes = indexes[np.arange(borders[0]-1, borders[1]-1)]\n",
    "\n",
    "        for idx in _indexes:\n",
    "            alpha[idx] = 0.\n",
    "            false_true_vec[idx] = 0\n",
    "\n",
    "        return alpha, false_true_vec\n",
    "    \n",
    "    else:\n",
    "        new_matrix = np.zeros_like(alpha)\n",
    "        zero_matrix = np.zeros_like(alpha)\n",
    "        \n",
    "        for idx, _alpha in enumerate(alpha):\n",
    "            if not np.array_equal(_alpha, np.zeros_like(_alpha)):\n",
    "                new_alpha, false_true_vec = CutMiddle(_alpha, n)\n",
    "                new_matrix[idx] = new_alpha\n",
    "                zero_matrix[idx] = false_true_vec\n",
    "               \n",
    "        return new_matrix, zero_matrix"
   ]
  },
  {
   "cell_type": "code",
   "execution_count": 66,
   "id": "8c5aca02-2bf5-440c-abfc-c2942d8094ad",
   "metadata": {},
   "outputs": [],
   "source": [
    "def CutOutliers(alpha, n, make_tf_vec=True):    \n",
    "    if len(alpha.shape) == 1:\n",
    "        indexes = np.argsort(alpha) # m*m\n",
    "\n",
    "        false_true_vec = np.ones(len(indexes)) # m\n",
    "\n",
    "        _indexes = np.concatenate((indexes[:n], indexes[len(alpha) - n : len(alpha)]), axis=None) # cut_out_w\n",
    "        \n",
    "        for idx in _indexes:  # cut_out_w\n",
    "            alpha[idx] = 0\n",
    "            false_true_vec[idx] = 0\n",
    "\n",
    "        return alpha, false_true_vec # m*m + 2 * cut_out_w\n",
    "    \n",
    "    else:\n",
    "\n",
    "        new_matrix = np.zeros_like(alpha)\n",
    "        zero_matrix = np.zeros_like(alpha)\n",
    "        \n",
    "        for idx, _alpha in enumerate(alpha): # n\n",
    "            if not np.array_equal(_alpha, np.zeros_like(_alpha)): # 2 * n * m\n",
    "                new_alpha, false_true_vec = CutOutliers(_alpha, n, True)\n",
    "                new_matrix[idx] = new_alpha\n",
    "                zero_matrix[idx] = false_true_vec\n",
    "               \n",
    "        return new_matrix, zero_matrix"
   ]
  },
  {
   "cell_type": "code",
   "execution_count": 67,
   "id": "b58300fd-3f31-49f0-a0cc-65aa20703b4f",
   "metadata": {},
   "outputs": [],
   "source": [
    "def merge_zeros(zero_matrix1, zero_matrix2):\n",
    "    new_matrix = zero_matrix1\n",
    "    new_matrix = np.where(zero_matrix2 == 0, zero_matrix2, new_matrix)  # n*m\n",
    "    return new_matrix"
   ]
  },
  {
   "cell_type": "code",
   "execution_count": 68,
   "id": "f3dcba07-facf-4d66-9874-c502eb3c2e23",
   "metadata": {},
   "outputs": [],
   "source": [
    "def make_alpha_28(high, low, close, volume, adv_window=20, corr_window=20, a=1):\n",
    "\n",
    "    adv = average_dayly_volume(volume, adv_window)\n",
    "    _alpha = np.zeros_like(close)\n",
    "    for i in range(adv_window + corr_window, len(close)):\n",
    "        _alpha[i] = ts_correlation(adv[i - corr_window: i], low[i-corr_window: i-1]) +\\\n",
    "                                    (high[i] + low[i]) / 2 - close[i]\n",
    "    \n",
    "    return scale(_alpha, a)"
   ]
  },
  {
   "cell_type": "code",
   "execution_count": 69,
   "id": "ba07375b-c9a3-4a16-ba9c-7781b9f0ae5f",
   "metadata": {},
   "outputs": [],
   "source": [
    "def prep_alpha(high, low, close, volume, adv_window, corr_window):\n",
    "    alpha_28 = make_alpha_28(high, low, close, volume, adv_window, corr_window)  # O((n - adv_w) * adv_w * m + n * (c_w * 4m))\n",
    "    alpha_28 = decay(alpha_28, 5) # O((n - d_w) * (3 * d_w * m + m))\n",
    "    alpha_28, zeros = CutOutliers(alpha_28, 10)  # O(n * (m*m + 2 * cut_out_w))\n",
    "    alpha_28, zeros_mid = CutMiddle(alpha_28, 10) # O(n * (m*m + 2 * cut_mid_w))\n",
    "    zeros = merge_zeros(zeros, zeros_mid) # O(n*m)\n",
    "    \n",
    "    alpha_28 = neutralize_with_dropout(alpha_28, zeros)  # O(n (5* m + 2 * zeros_num))\n",
    "    alpha_28 = normalize(alpha_28) # O(2 * n * m)\n",
    "\n",
    "    return alpha_28\n",
    "\n",
    "adv_window=20\n",
    "corr_window=5\n",
    "\n",
    "alpha_28 = prep_alpha(high, low, close, volume, adv_window, corr_window)"
   ]
  },
  {
   "cell_type": "code",
   "execution_count": 70,
   "id": "34df423a-82d8-4d3f-8958-b1f5f30875f2",
   "metadata": {},
   "outputs": [],
   "source": [
    "def AlphaStats(alpha_states, df):\n",
    "    \"\"\"\n",
    "        Расчитывает ежегодную статистику по альфе за все года.\n",
    "    \"\"\"\n",
    "    format = '%Y-%m-%d'\n",
    "    year_start = '-01-01'\n",
    "    year_end = '-12-31'\n",
    "\n",
    "    # get all dates list\n",
    "    dates = df.columns[1:]\n",
    "\n",
    "    # get unique years in dates list\n",
    "    dates_years = np.unique(np.array([date.split('-')[0] for date in dates]))\n",
    "\n",
    "    # convert date strings into datetime.date to compare\n",
    "    dates = np.array(pd.to_datetime(dates,format='%Y-%m-%d').date)\n",
    "\n",
    "    # make years borders\n",
    "    years_borders = np.array([(datetime.datetime.strptime(year+year_start, format).date(), \n",
    "                      datetime.datetime.strptime(year+year_end, format).date()) for year in dates_years])\n",
    "\n",
    "    # get instruments return matrix \n",
    "    return_matrix = instrument_return(df)\n",
    "\n",
    "    cumpnl = np.array([0])\n",
    "\n",
    "    annual_cumpnl = []\n",
    "    annual_sharpe = []\n",
    "    ave_annual_turnover = []\n",
    "    annual_drawdown = []\n",
    "\n",
    "    for idx, year_date in enumerate(years_borders):\n",
    "        start, end = year_date\n",
    "        \n",
    "        # get indexes of the current year\n",
    "        indexes = np.where((start <= dates) & (end >= dates) , True, False)\n",
    "\n",
    "        # get alphas for the specific year\n",
    "        current_year_alpha_states = alpha_states[indexes]\n",
    "\n",
    "        # get return_vectors for the specific time interval\n",
    "        current_income_matrix = return_matrix[indexes]\n",
    "\n",
    "        # get alpha_pnl_vector\n",
    "        current_alpha_pnl = alpha_income(current_year_alpha_states, current_income_matrix)\n",
    "\n",
    "        # get cumpnl_vector\n",
    "        current_alpha_cumpnl_vec = cumulative_pnl(current_alpha_pnl)\n",
    "\n",
    "\n",
    "        # concate cumpnl_vec\n",
    "        cumpnl = np.concatenate((cumpnl, current_alpha_cumpnl_vec + cumpnl[-1]), axis=None)\n",
    "\n",
    "        # add the year's cumpnl\n",
    "        annual_cumpnl.append(cumpnl[-1])\n",
    "\n",
    "    # draw cumpnl\n",
    "    draw_cumpnl(df, cumpnl[1:], df.columns[1:])\n",
    "\n",
    "    print(annual_cumpnl)"
   ]
  },
  {
   "cell_type": "code",
   "execution_count": 71,
   "id": "38cb96a3-3b11-4517-994f-5e4f63541993",
   "metadata": {},
   "outputs": [],
   "source": [
    "def instrument_return(df=None, close_prices=None):\n",
    "    if df is not None:\n",
    "        # получим матрицу цен закрытия по всем инструментам за каждый день\n",
    "        close_np = df.drop('Unnamed: 0', axis=1).to_numpy().T\n",
    "\n",
    "    elif close_prices is not None:\n",
    "        close_np = close_prices\n",
    "\n",
    "    # дата начала должна отставать на один день\n",
    "    close_dates_start, close_dates_end = close_np[:len(close_np)-1], close_np[1:]\n",
    "\n",
    "    # расчет инкома\n",
    "    income = close_dates_end / close_dates_start - 1\n",
    "\n",
    "    return np.concatenate((np.zeros((1, income.shape[1])), income), axis=0)\n",
    "\n",
    "def alpha_income(alpha_states, return_vector):\n",
    "    alpha_income_vector = np.zeros(alpha_states.shape[0])\n",
    "    for i in range(2, len(alpha_states)):\n",
    "        alpha_income_vector[i] += np.dot(alpha_states[i-2],return_vector[i-1])\n",
    "        \n",
    "    return alpha_income_vector\n",
    "\n",
    "def cumulative_pnl(income_vector):\n",
    "    cumpnl = np.zeros(len(income_vector))\n",
    "    cumpnl[0] = income_vector[0]\n",
    "\n",
    "    for i in range(1, len(income_vector)):\n",
    "        cumpnl[i] = cumpnl[i-1] + income_vector[i]# income_vector[:i+1].sum()\n",
    "\n",
    "    return cumpnl\n",
    "\n",
    "def draw_cumpnl(df, cumpnl, dates):\n",
    "    dates = df.columns[1:]\n",
    "    plt.plot(cumpnl, label='cumpnl')\n",
    "    plt.xlabel('date')\n",
    "    plt.ylabel('cumpnl')\n",
    "    plt.xticks(np.arange(0, len(dates), 100), dates[np.arange(0, len(dates), 100)], rotation=45)\n",
    "    plt.legend()\n",
    "    plt.show()"
   ]
  },
  {
   "cell_type": "code",
   "execution_count": 72,
   "id": "91912482-bdd7-4fe6-a8de-d73f8c8b46f6",
   "metadata": {},
   "outputs": [
    {
     "data": {
      "image/png": "[encoded data removed]",
      "text/plain": [
       "<Figure size 640x480 with 1 Axes>"
      ]
     },
     "metadata": {},
     "output_type": "display_data"
    },
    {
     "name": "stdout",
     "output_type": "stream",
     "text": [
      "[0.2695260109520612, 0.3473140554702917, 0.39939789977267454, 0.46926656155942514, 0.48750808161577136]\n"
     ]
    }
   ],
   "source": [
    "AlphaStats(alpha_28, close_df)"
   ]
  },
  {
   "cell_type": "code",
   "execution_count": 73,
   "id": "a915703f-b36a-485b-b0bd-0fa654674fcc",
   "metadata": {},
   "outputs": [
    {
     "name": "stdout",
     "output_type": "stream",
     "text": [
      "CPU times: user 1.04 s, sys: 27.6 ms, total: 1.07 s\n",
      "Wall time: 1.07 s\n"
     ]
    }
   ],
   "source": [
    "%%time \n",
    "alpha = prep_alpha(high, low, close, volume, adv_window, corr_window)"
   ]
  },
  {
   "cell_type": "markdown",
   "id": "65d859c0-4375-44e1-adc7-2ebe7d6be0d6",
   "metadata": {},
   "source": [
    "из сигнала:\n",
    "    из ADV: (n - adv_w) * adv_w * m, где n - кол-во дней, adv_w - величина окна, m - кол-во инструментов\n",
    "    + n * (c_w * 4m (из корреляции))\n",
    "\n",
    "\n",
    "\n",
    "из сигнала: O((n - adv_w) * adv_w * m + n * (c_w * 4m)) ≈ O(n * m*(adv_w + 4 * c_w))\n",
    "\n",
    "из замедления: O((n - d_w) * (3 * d_w * m + m)) ≈ O(n * m * 3 * d_w)\n",
    "\n",
    "из вырезания выбросов: O(n * (m*m + 2 * cut_out_w)) ≈ O(n * m^2)\n",
    "\n",
    "из вырезания средниx: O(n * (m*m + 2 * cut_mid_w)) ≈ O(n * m^2)\n",
    "\n",
    "из объединения нулей: O(n*m)\n",
    "\n",
    "из нейтрализации с выбросом: O(n * (5* m + 2 * zeros_num)) ≈ O(5 * m * n)\n",
    "\n",
    "из нормализации: O(2 * n * m)\n",
    "\n",
    "Итого: O(n * m* (adv_w + 4 * c_w) + n * m * 3 * d_w + 2 * n * m^2 + 8 * n*m) ≈ O(n*m(adv_w + 4 * c_w + 3 * d_w + 2* m + 8)) ≈ O(2*n*m^2)"
   ]
  },
  {
   "cell_type": "markdown",
   "id": "8a93225f-80ae-4d9b-b651-d01a85747104",
   "metadata": {},
   "source": [
    "# Треугольник"
   ]
  },
  {
   "cell_type": "code",
   "execution_count": 77,
   "id": "86d4b50f-2822-4c9e-bcca-ac0276cc502f",
   "metadata": {},
   "outputs": [],
   "source": [
    "def is_triangle(sides: 'list[int]') -> str:\n",
    "    max = 0\n",
    "    for item in sides:\n",
    "        if item == 0:\n",
    "            return 'NO'\n",
    "        if item > max:\n",
    "            max = item\n",
    "    if a + b + c - max > max:\n",
    "        return 'YES'\n",
    "    return 'NO'"
   ]
  },
  {
   "cell_type": "markdown",
   "id": "06acbd46-9278-4b0f-b20a-3edc3d67a8ee",
   "metadata": {},
   "source": [
    "# Уравнение в целых числах"
   ]
  },
  {
   "cell_type": "code",
   "execution_count": 85,
   "id": "ccf3ab46-c0d3-46d2-b890-fffef727d37d",
   "metadata": {},
   "outputs": [],
   "source": [
    "# √ax+ b = c\n",
    "\n",
    "def solve_equation(a, b, c):\n",
    "    if c < 0:\n",
    "        return None\n",
    "    elif a == 0:\n",
    "        if c**2 == b:\n",
    "            return 'Any'\n",
    "        else:\n",
    "            return None\n",
    "    else:\n",
    "        if (c**2 - b) % a == 0:\n",
    "            return (c**2 - b) // a\n",
    "        else:\n",
    "            return None"
   ]
  },
  {
   "cell_type": "code",
   "execution_count": 88,
   "id": "9d0432fa-463a-46b1-aac2-8b1f77477304",
   "metadata": {},
   "outputs": [
    {
     "name": "stdout",
     "output_type": "stream",
     "text": [
      "0\n",
      "7\n",
      "Any\n",
      "-1\n",
      "None\n"
     ]
    }
   ],
   "source": [
    "print(solve_equation(1, 0, 0))\n",
    "print(solve_equation(1, 2, 3))\n",
    "print(solve_equation(0, 1, 1))\n",
    "print(solve_equation(-1, 0, 1))\n",
    "print(solve_equation(1, 2, -3))"
   ]
  },
  {
   "cell_type": "code",
   "execution_count": 217,
   "id": "ec39328d-05cd-49d4-9d3c-e1a2ecd55bf9",
   "metadata": {},
   "outputs": [
    {
     "name": "stdin",
     "output_type": "stream",
     "text": [
      " 1\n",
      " 0\n",
      " 0\n"
     ]
    },
    {
     "name": "stdout",
     "output_type": "stream",
     "text": [
      "0\n"
     ]
    }
   ],
   "source": [
    "no_solution = 'NO SOLUTION'\n",
    "many_sol = 'MANY SOLUTIONS'\n",
    "\n",
    "def solve_equation(a, b, c):\n",
    "    if c < 0:\n",
    "        return no_solution\n",
    "    elif a == 0:\n",
    "        if c**2 == b:\n",
    "            return many_sol\n",
    "        else:\n",
    "            return no_solution\n",
    "    else:\n",
    "        if (c**2 - b) % a == 0:\n",
    "            return (c**2 - b) // a\n",
    "        else:\n",
    "            return no_solution\n",
    "\n",
    "\n",
    "if __name__ == \"__main__\":\n",
    "    a = int(input())\n",
    "    b = int(input())\n",
    "    c = int(input())\n",
    "\n",
    "    print(solve_equation(a, b, c))"
   ]
  },
  {
   "cell_type": "markdown",
   "id": "ca68064d-37c7-439e-8121-da5cf197ba45",
   "metadata": {},
   "source": [
    "# Номер подъезда"
   ]
  },
  {
   "cell_type": "markdown",
   "id": "72b24a7b-d1f7-4fab-a631-2b090162360f",
   "metadata": {},
   "source": [
    "Бригада скорой помощи выехала по вызову в один из отделенных районов. К сожалению, когда диспетчер получил вызов, он успел записать только адрес дома и номер квартиры K1, а затем связь прервалась. Однако он вспомнил, что по этому же адресу дома некоторое время назад скорая помощь выезжала в квартиру K2, которая расположена в подъезда P2 на этаже N2. Известно, что в доме M этажей и количество квартир на каждой лестничной площадке одинаково. Напишите программу, которая вычилсяет номер подъезда P1 и номер этажа N1 квартиры K1.\n",
    "\n",
    "**Формат ввода**\n",
    "\n",
    "Во входном файле записаны пять положительных целых чисел K1, M, K2, P2, N2. Все числа не превосходят 10^6.\n",
    "\n",
    "**Формат вывода**\n",
    "\n",
    "Выведите два числа P1 и N1. Если входные данные не позволяют однозначно определить P1 или N1, вместо соответствующего числа напечатайте 0. Если входные данные противоречивы, напечатайте два числа –1 (минус один).\n",
    "\n",
    "*Пример 1*\n",
    "\n",
    "Ввод: 89 20 41 1 11 Вывод: 2 3\n",
    "\n",
    "*Пример 2*\n",
    "\n",
    "Ввод: 11 1 1 1 1 Вывод: 0 1\n",
    "\n",
    "*Пример 3*\n",
    "\n",
    "Ввод: 3 2 2 2 1 Вывод: -1 -1"
   ]
  },
  {
   "cell_type": "code",
   "execution_count": 91,
   "id": "e56e0c68-7a68-4c3f-adda-4a7cd1dc6f54",
   "metadata": {},
   "outputs": [],
   "source": [
    "import math"
   ]
  },
  {
   "cell_type": "code",
   "execution_count": 159,
   "id": "b1acecf4-328e-4423-ab06-09241bad34bf",
   "metadata": {},
   "outputs": [],
   "source": [
    "def entrance_number(k1, M, k2, p2, n2):\n",
    "    if k1 == k2:\n",
    "        return p2, n2\n",
    "    if M <= k2 and p2 > 1:\n",
    "        return -1, -1\n",
    "    if k1 < k2 and p2 == 1:\n",
    "        p1 = 1\n",
    "        if math.ceil(k2/((p2-1)*M + n2)) * ((p2-1)*M + n2) > k2 and (math.ceil(k2/((p2-1)*M + n2))+1) * ((p2-1)*M + n2) > k2:\n",
    "            return p1, 0\n",
    "        n1 = (k1 - (p1 - 1)*M*g) // g + (k1 - (p1 - 1)*M*g) % g\n",
    "        return p1, n1\n",
    "        \n",
    "    if M == 1:\n",
    "        n1 = 1\n",
    "        if p2 == 1 and n1 == 1:\n",
    "            return 0, n1\n",
    "        else:\n",
    "            g = math.ceil(k2/((p2-1)*M + n2))\n",
    "            p1 = math.ceil(k1 / (M * g))\n",
    "            return p1, n1\n",
    "    g = math.ceil(k2/((p2-1)*M + n2))\n",
    "    p1 = math.ceil(k1 / (M * g))\n",
    "    n1 = (k1 - (p1 - 1)*M*g) // g + (k1 - (p1 - 1)*M*g) % g\n",
    "    return p1, n1"
   ]
  },
  {
   "cell_type": "code",
   "execution_count": 160,
   "id": "27d46186-63b8-454d-8e06-bfe22e59c0c2",
   "metadata": {},
   "outputs": [
    {
     "name": "stdout",
     "output_type": "stream",
     "text": [
      "(2, 3)\n",
      "(0, 1)\n",
      "(-1, -1)\n",
      "(1, 0)\n"
     ]
    }
   ],
   "source": [
    "print(entrance_number(89, 20, 41, 1, 11))\n",
    "print(entrance_number(11, 1, 1, 1, 1))\n",
    "print(entrance_number(3, 2, 2, 2, 1))\n",
    "print(entrance_number(4, 2, 5, 1, 2))  # 1 0"
   ]
  },
  {
   "cell_type": "code",
   "execution_count": 219,
   "id": "69efbee7-dd17-4e31-8a05-532861f04fd6",
   "metadata": {},
   "outputs": [
    {
     "name": "stdin",
     "output_type": "stream",
     "text": [
      " 89, 20, 41, 1, 11\n"
     ]
    },
    {
     "name": "stdout",
     "output_type": "stream",
     "text": [
      "(2, 3)\n"
     ]
    }
   ],
   "source": [
    "import math\n",
    "\n",
    "def entrance_number():\n",
    "    nums = input().split(',')\n",
    "    k1 = int(nums[0])\n",
    "    M = int(nums[1])\n",
    "    k2 = int(nums[2])\n",
    "    p2 = int(nums[3])\n",
    "    n2 = int(nums[4])\n",
    "    if k1 == k2:\n",
    "        return p2, n2\n",
    "    if M <= k2 and p2 > 1:\n",
    "        return -1, -1\n",
    "    if k1 < k2 and p2 == 1:\n",
    "        p1 = 1\n",
    "        if math.ceil(k2/((p2-1)*M + n2)) * ((p2-1)*M + n2) > k2 and (math.ceil(k2/((p2-1)*M + n2))+1) * ((p2-1)*M + n2) > k2:\n",
    "            return p1, 0\n",
    "        n1 = (k1 - (p1 - 1)*M*g) // g + (k1 - (p1 - 1)*M*g) % g\n",
    "        return p1, n1\n",
    "        \n",
    "    if M == 1:\n",
    "        n1 = 1\n",
    "        if p2 == 1 and n1 == 1:\n",
    "            return 0, n1\n",
    "        else:\n",
    "            g = math.ceil(k2/((p2-1)*M + n2))\n",
    "            p1 = math.ceil(k1 / (M * g))\n",
    "            return p1, n1\n",
    "    g = math.ceil(k2/((p2-1)*M + n2))\n",
    "    p1 = math.ceil(k1 / (M * g))\n",
    "    n1 = (k1 - (p1 - 1)*M*g) // g + (k1 - (p1 - 1)*M*g) % g\n",
    "    return p1, n1\n",
    "    \n",
    "    \n",
    "if __name__ == \"__main__\":\n",
    "    print(entrance_number())"
   ]
  },
  {
   "cell_type": "markdown",
   "id": "4bbd4b45-5757-4dea-8c23-9eaaa5084a3a",
   "metadata": {},
   "source": [
    "# Сплавы"
   ]
  },
  {
   "cell_type": "markdown",
   "id": "0094e4d8-d442-437c-a2ef-0038845f0d7e",
   "metadata": {},
   "source": [
    "Имеется N кг металлического сплава. Из него изготавливают заготовки массой K кг каждая. После этого из каждой заготовки вытачиваются детали массой M кг каждая (из каждой заготовки вытачивают максимально возможное количество деталей). Если от заготовок после этого что-то остается, то этот материал возвращают к началу производственного цикла и сплавляют с тем, что осталось при изготовлении заготовок. Если того сплава, который получился, достаточно для изготовления хотя бы одной заготовки, то из него снова изготавливают заготовки, из них – детали и т.д. Напишите программу, которая вычислит, какое количество деталей может быть получено по этой технологии из имеющихся исходно N кг сплава.\n",
    "\n",
    "**Формат ввода**\n",
    "\n",
    "Вводятся N, K, M. Все числа натуральные и не превосходят 200.\n",
    "\n",
    "**Формат вывода**\n",
    "\n",
    "Выведите одно число — количество деталей, которое может получиться по такой технологии.\n",
    "\n",
    "*Пример 1*\n",
    "\n",
    "Ввод: 10 5 2 Вывод: 4\n",
    "\n",
    "*Пример 2*\n",
    "\n",
    "Ввод: 13 5 3 Вывод: 3\n",
    "\n",
    "*Пример 3*\n",
    "\n",
    "Ввод: 14 5 3 Вывод: 4"
   ]
  },
  {
   "cell_type": "code",
   "execution_count": 214,
   "id": "423ffe3e-951a-4cc2-9870-1176157135e2",
   "metadata": {},
   "outputs": [],
   "source": [
    "def tools(n, k, m):\n",
    "    product = 0\n",
    "    remains = n\n",
    "    if n < k or k < m or n < m:\n",
    "        return 0\n",
    "    while remains >= k:\n",
    "        k_nums = remains // k\n",
    "        remains -= k * k_nums\n",
    "        product += k_nums * (k // m)\n",
    "        remains += k_nums * (k % m)\n",
    "    return product"
   ]
  },
  {
   "cell_type": "code",
   "execution_count": 215,
   "id": "7ddea282-be81-420b-8b07-1ba50a232a7c",
   "metadata": {},
   "outputs": [
    {
     "name": "stdout",
     "output_type": "stream",
     "text": [
      "4\n",
      "3\n",
      "4\n"
     ]
    }
   ],
   "source": [
    "print(tools(10, 5, 2))\n",
    "print(tools(13, 5, 3))\n",
    "print(tools(14, 5, 3))"
   ]
  },
  {
   "cell_type": "code",
   "execution_count": 216,
   "id": "65476c86-ffbb-45e7-a1d3-b6ead0ae4abd",
   "metadata": {},
   "outputs": [
    {
     "name": "stdin",
     "output_type": "stream",
     "text": [
      " 10 5 2\n"
     ]
    },
    {
     "name": "stdout",
     "output_type": "stream",
     "text": [
      "4\n"
     ]
    }
   ],
   "source": [
    "def tools(n, k, m):\n",
    "    product = 0\n",
    "    remains = n\n",
    "    if n < k or k < m or n < m:\n",
    "        return 0\n",
    "    while remains >= k:\n",
    "        k_nums = remains // k\n",
    "        remains -= k * k_nums\n",
    "        product += k_nums * (k // m)\n",
    "        remains += k_nums * (k % m)\n",
    "    return product\n",
    "    \n",
    " \n",
    "if __name__ == \"__main__\":\n",
    "    nums = input()\n",
    "    figs = nums.split()\n",
    "    print(tools(int(figs[0]), int(figs[1]), int(figs[2])))"
   ]
  },
  {
   "cell_type": "code",
   "execution_count": 192,
   "id": "652a7c32-ea4c-4e8d-ac79-494da44ad538",
   "metadata": {},
   "outputs": [],
   "source": [
    "import math\n",
    "\n",
    "def table(a, b, c, d):\n",
    "    square = a * b + c * d\n",
    "    # length = sum(sorted([a, b, c, d])[2:])\n",
    "    length = max([max([a, b]) + min([c, d]), min([a, b]) + max([c, d])])\n",
    "    width = square // length\n",
    "    while square > width * length:\n",
    "        width += 1\n",
    "    return width, length"
   ]
  },
  {
   "cell_type": "code",
   "execution_count": 193,
   "id": "c3935b4b-ed3d-46ac-ab76-d60b2975abd5",
   "metadata": {},
   "outputs": [
    {
     "name": "stdout",
     "output_type": "stream",
     "text": [
      "(4, 12)\n",
      "(5, 9)\n"
     ]
    }
   ],
   "source": [
    "print(table(10, 2, 2, 10))\n",
    "print(table(5,7,3,2))"
   ]
  },
  {
   "cell_type": "markdown",
   "id": "4b6dfb01-889b-4a71-9fbc-e4e4f5bf74c9",
   "metadata": {},
   "source": [
    "# Узник замка Иф"
   ]
  },
  {
   "cell_type": "markdown",
   "id": "81b23a30-92b7-424b-8d04-31e86ff88fc0",
   "metadata": {},
   "source": [
    "За многие годы заточения узник замка Иф проделал в стене прямоугольное отверстие размером D × E. Замок Иф сложен из кирпичей, размером A × B × C. Определите, сможет ли узник выбрасывать кирпичи в море через это отверстие, если стороны кирпича должны быть параллельны сторонам отверстия.\n",
    "\n",
    "**Формат ввода**\n",
    "\n",
    "Программа получает на вход числа A, B, C, D, E.\n",
    "\n",
    "**Формат вывода**\n",
    "\n",
    "Программа должна вывести слово YES или NO.\n",
    "\n",
    "*Пример 1*\n",
    "\n",
    "Ввод: 1 1 1 1 1 (построчно)\n",
    "\n",
    "Вывод: YES\n",
    "\n",
    "*Пример 2*\n",
    "\n",
    "Ввод: 2 2 2 1 1 (построчно) \n",
    "\n",
    "Вывод: NO"
   ]
  },
  {
   "cell_type": "code",
   "execution_count": 224,
   "id": "bf6b6d6c-1399-4903-977b-515d3dc46b02",
   "metadata": {},
   "outputs": [],
   "source": [
    "yes = \"YES\"\n",
    "no = \"NO\"\n",
    "\n",
    "def fit_hole(a, b, c, d, e):\n",
    "    if d * e >= a * b and min([d, e]) >= min([a, b]) and max([d, e]) >= max([a, b]):\n",
    "        return yes\n",
    "    if d * e >= c * b and min([d, e]) >= min([c, b]) and max([d, e]) >= max([c, b]):\n",
    "        return yes\n",
    "    if d * e >= a * c and min([d, e]) >= min([a, c]) and max([d, e]) >= max([a, c]):\n",
    "        return yes\n",
    "    return no"
   ]
  },
  {
   "cell_type": "code",
   "execution_count": 225,
   "id": "4c9b8428-aeee-44ee-b257-0f1a794a9169",
   "metadata": {},
   "outputs": [
    {
     "name": "stdout",
     "output_type": "stream",
     "text": [
      "YES\n",
      "NO\n"
     ]
    }
   ],
   "source": [
    "print(fit_hole(1, 1, 1, 1, 1))\n",
    "print(fit_hole(2, 2, 2, 1, 1))"
   ]
  },
  {
   "cell_type": "code",
   "execution_count": 226,
   "id": "e8d79380-ea6c-4fc2-9ae4-f45062292ab5",
   "metadata": {},
   "outputs": [
    {
     "name": "stdin",
     "output_type": "stream",
     "text": [
      " 1\n",
      " 1\n",
      " 1\n",
      " 1\n",
      " 1\n"
     ]
    },
    {
     "name": "stdout",
     "output_type": "stream",
     "text": [
      "YES\n"
     ]
    }
   ],
   "source": [
    "yes = \"YES\"\n",
    "no = \"NO\"\n",
    "\n",
    "def fit_hole(a, b, c, d, e):\n",
    "    if d * e >= a * b and min([d, e]) >= min([a, b]) and max([d, e]) >= max([a, b]):\n",
    "        return yes\n",
    "    if d * e >= c * b and min([d, e]) >= min([c, b]) and max([d, e]) >= max([c, b]):\n",
    "        return yes\n",
    "    if d * e >= a * c and min([d, e]) >= min([a, c]) and max([d, e]) >= max([a, c]):\n",
    "        return yes\n",
    "    return no\n",
    "    \n",
    "    \n",
    "if __name__ == \"__main__\":\n",
    "    a = int(input())\n",
    "    b = int(input())\n",
    "    c = int(input())\n",
    "    d = int(input())\n",
    "    e = int(input())\n",
    "    \n",
    "    print(fit_hole(a, b, c, d, e))"
   ]
  },
  {
   "cell_type": "markdown",
   "id": "29e20679-3181-4b5d-80bd-1eb5eb46a635",
   "metadata": {},
   "source": [
    "# Система линейных уравнений"
   ]
  },
  {
   "cell_type": "markdown",
   "id": "5a27c52d-4955-46f5-962d-e5b42457fc5e",
   "metadata": {},
   "source": [
    "Даны числа a,b,c,d,e,f. Решить систему линейных уравнений:\n",
    "\n",
    "ax+by=e\n",
    "\n",
    "cx+dy=f\n",
    "\n",
    "Учесть все возможные случаи."
   ]
  },
  {
   "cell_type": "markdown",
   "id": "4f3ef689-518c-402e-9638-fb3ed91fc694",
   "metadata": {},
   "source": [
    "1. Если система не имеет решений, то программа должна вывести единственное число 0.\n",
    "2. Если система имеет бесконечно много решений, каждое из которых имеет вид y=kx+b, то программа должна вывести число 1, а затем значения k и b.\n",
    "3. Если система имеет единственное решение (x0,y0), то программа должна вывести число 2, а затем значения x0 и y0.\n",
    "4. Если система имеет бесконечно много решений вида x=x0, y — любое, то программа должна вывести число 3, а затем значение x0.\n",
    "5. Если система имеет бесконечно много решений вида y=y0, x — любое, то программа должна вывести число 4, а затем значение y0.\n",
    "6. Если любая пара чисел (x,y) является решением, то программа должна вывести число 5."
   ]
  },
  {
   "cell_type": "code",
   "execution_count": 273,
   "id": "337ff0ce-f731-4a0d-a725-57c1a166dd99",
   "metadata": {},
   "outputs": [],
   "source": [
    "def solve_system(a, b, c, d, e, f):\n",
    "    if a == 0 and b == 0 and c == 0 and d == 0:\n",
    "        if e == 0 and f == 0:\n",
    "            print(5)\n",
    "        else:\n",
    "            print(0)\n",
    "    elif a == 0 and b == 0:\n",
    "        if e != 0:\n",
    "            print(0)\n",
    "        elif c == 0 and d != 0:\n",
    "            print(4, f / d)\n",
    "        elif d == 0 and c != 0:\n",
    "            print(3, f / c)\n",
    "        elif c != 0 and d != 0:\n",
    "            print(1, - c / d, f / d)\n",
    "        else:\n",
    "            print(0)\n",
    "    elif c == 0 and d == 0:\n",
    "        if f != 0:\n",
    "            print(0)\n",
    "        elif a == 0 and b != 0:\n",
    "            print(4, e / b)\n",
    "        elif a!= 0 and b == 0:\n",
    "            print(3, e / a)\n",
    "        elif a != 0 and b != 0:\n",
    "            print(1, -a / b, e / b)\n",
    "        else:\n",
    "            print(0)\n",
    "    elif a == 0 and c == 0:\n",
    "        if e / b == f / d:\n",
    "            print(4, e / b)\n",
    "        else: \n",
    "            print(0)\n",
    "    elif b == 0 and d == 0:\n",
    "        if e / a == f / c:\n",
    "            print(3, e / a)\n",
    "        else:\n",
    "            print(0)\n",
    "    elif (a!=0 and  b!= 0 and c !=0 and d != 0) and (a / c == b / d):\n",
    "        if e == 0 and f == 0:\n",
    "            print(1, -a / b, 0)\n",
    "        elif e == 0 and f != 0:\n",
    "            print(0)\n",
    "        elif e != 0 and f == 0:\n",
    "            print(0)\n",
    "        elif a / c == e / f:\n",
    "            print(1, -a / b, e / b)\n",
    "        else:\n",
    "            print(0)\n",
    "    elif a*d - b*c == 0:\n",
    "        if (e*d-b*f) == 0 and (e*c - a*f) == 0:\n",
    "            print(5)\n",
    "        else:\n",
    "            print(0)\n",
    "    else:\n",
    "        print(2, (e*d - b*f) / (a*d - c*b), (a*f - e*c) / (a*d - b*c))"
   ]
  },
  {
   "cell_type": "code",
   "execution_count": 274,
   "id": "d28b75ed-dcc4-4397-bb38-23ade65d7554",
   "metadata": {},
   "outputs": [
    {
     "name": "stdout",
     "output_type": "stream",
     "text": [
      "2 3.0 3.0\n",
      "1 -1.0 1.0\n",
      "4 0.5\n"
     ]
    }
   ],
   "source": [
    "solve_system(1, 0, 0, 1, 3, 3)  # 2, 3, 3\n",
    "solve_system(1, 1, 2, 2, 1, 2)  # 1 -1 1\n",
    "solve_system(0, 2, 0, 4, 1, 2)  # 4 0.5"
   ]
  },
  {
   "cell_type": "code",
   "execution_count": 275,
   "id": "4b86488b-2d9a-4a52-b902-58231e8602c7",
   "metadata": {},
   "outputs": [
    {
     "name": "stdin",
     "output_type": "stream",
     "text": [
      " 1\n",
      " 1\n",
      " 1\n",
      " 1\n",
      " 1\n",
      " 1\n"
     ]
    },
    {
     "name": "stdout",
     "output_type": "stream",
     "text": [
      "1 -1.0 1.0\n"
     ]
    }
   ],
   "source": [
    "def solve_system(a, b, c, d, e, f):\n",
    "    if a == 0 and b == 0 and c == 0 and d == 0:\n",
    "        if e == 0 and f == 0:\n",
    "            print(5)\n",
    "        else:\n",
    "            print(0)\n",
    "    elif a == 0 and b == 0:\n",
    "        if e != 0:\n",
    "            print(0)\n",
    "        elif c == 0 and d != 0:\n",
    "            print(4, f / d)\n",
    "        elif d == 0 and c != 0:\n",
    "            print(3, f / c)\n",
    "        elif c != 0 and d != 0:\n",
    "            print(1, - c / d, f / d)\n",
    "        else:\n",
    "            print(0)\n",
    "    elif c == 0 and d == 0:\n",
    "        if f != 0:\n",
    "            print(0)\n",
    "        elif a == 0 and b != 0:\n",
    "            print(4, e / b)\n",
    "        elif a!= 0 and b == 0:\n",
    "            print(3, e / a)\n",
    "        elif a != 0 and b != 0:\n",
    "            print(1, -a / b, e / b)\n",
    "        else:\n",
    "            print(0)\n",
    "    elif a == 0 and c == 0:\n",
    "        if e / b == f / d:\n",
    "            print(4, e / b)\n",
    "        else: \n",
    "            print(0)\n",
    "    elif b == 0 and d == 0:\n",
    "        if e / a == f / c:\n",
    "            print(3, e / a)\n",
    "        else:\n",
    "            print(0)\n",
    "    #elif (a!=0 and  b!= 0 and c !=0 and d != 0) and (a % c == 0 or c % a == 0) and ( b % d == 0 or d % b == 0):\n",
    "    elif (a!=0 and  b!= 0 and c !=0 and d != 0) and (a / c == b / d):\n",
    "        if e == 0 and f == 0:\n",
    "            print(1, -a / b, 0)\n",
    "        elif e == 0 and f != 0:\n",
    "            print(0)\n",
    "        elif e != 0 and f == 0:\n",
    "            print(0)\n",
    "        elif a / c == e / f:\n",
    "            print(1, -a / b, e / b)\n",
    "        else:\n",
    "            print(0)\n",
    "    elif a*d - b*c == 0:\n",
    "        if (e*d-b*f) == 0 and (e*c - a*f) == 0:\n",
    "            print(5)\n",
    "        else:\n",
    "            print(0)\n",
    "    else:\n",
    "        print(2, (e*d - b*f) / (a*d - c*b), (a*f - e*c) / (a*d - b*c))\n",
    "        \n",
    "        \n",
    "if __name__ == \"__main__\":\n",
    "    a = float(input())\n",
    "    b = float(input())\n",
    "    c = float(input())\n",
    "    d = float(input())\n",
    "    e = float(input())\n",
    "    f = float(input())\n",
    "    \n",
    "    solve_system(a, b, c, d, e, f)"
   ]
  },
  {
   "cell_type": "code",
   "execution_count": null,
   "id": "d63ecbae-8f1a-406f-aa5f-e8d3c39ef458",
   "metadata": {},
   "outputs": [],
   "source": []
  }
 ],
 "metadata": {
  "kernelspec": {
   "display_name": "venv",
   "language": "python",
   "name": "venv"
  },
  "language_info": {
   "codemirror_mode": {
    "name": "ipython",
    "version": 3
   },
   "file_extension": ".py",
   "mimetype": "text/x-python",
   "name": "python",
   "nbconvert_exporter": "python",
   "pygments_lexer": "ipython3",
   "version": "3.9.13"
  }
 },
 "nbformat": 4,
 "nbformat_minor": 5
}
