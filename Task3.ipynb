{
  "nbformat": 4,
  "nbformat_minor": 0,
  "metadata": {
    "colab": {
      "provenance": []
    },
    "kernelspec": {
      "name": "python3",
      "display_name": "Python 3"
    },
    "language_info": {
      "name": "python"
    }
  },
  "cells": [
    {
      "cell_type": "markdown",
      "source": [
        "Домашняя работа (14.12)\n",
        "\n",
        "1. Необходимо реализовать очередь c приоритетом со всеми методами (3 балла)\n",
        "2. Необходимо найти максимальное произведение соседей в массиве, если несколько одинаковых результатов, то не обходимо выбрать с наименьшим множителем  (2 балла)\n",
        "\n",
        "Лекции: https://docs.google.com/presentation/d/1RihXDGBtlgwqGhDOlG2_oQTK4t9x5yqmOtI12lJy2es/edit#slide=id.p"
      ],
      "metadata": {
        "id": "IfThW9RkRsWB"
      }
    },
    {
      "cell_type": "code",
      "source": [
        "class Stack():\n",
        "    def __init__(self):\n",
        "      self.stack = []\n",
        "\n",
        "    def push(self, n):\n",
        "      self.stack.append(n)\n",
        "      print('ok')\n",
        "      return True\n",
        "\n",
        "    def pop(self):\n",
        "      try:\n",
        "        a= self.stack.pop()\n",
        "        print(a)\n",
        "      except:\n",
        "        print('error')\n",
        "      return True\n",
        "\n",
        "    def back(self):\n",
        "      try:\n",
        "        a=self.stack.back()\n",
        "        print(self.stack[-1])\n",
        "      except:\n",
        "        print('error')\n",
        "      return True\n",
        "\n",
        "    def size(self):\n",
        "      print(len(self.stack))\n",
        "      return True\n",
        "\n",
        "    def clear(self):\n",
        "      self.stack=[]\n",
        "      print('ok')\n",
        "      return True\n",
        "\n",
        "    def show(self):\n",
        "      return self.stack"
      ],
      "metadata": {
        "id": "WNcN5ZDORomj"
      },
      "execution_count": null,
      "outputs": []
    },
    {
      "cell_type": "code",
      "source": [
        "stack = Stack()\n",
        "c= True\n",
        "actions = {\n",
        "    'push': stack.push,\n",
        "    'pop': stack.pop,\n",
        "    'show': stack.show()\n",
        "}"
      ],
      "metadata": {
        "id": "T7rYYVVmeet3"
      },
      "execution_count": null,
      "outputs": []
    },
    {
      "cell_type": "code",
      "source": [
        "while c:\n",
        "    action = input()\n",
        "\n",
        "    if len(action.split()) == 2:\n",
        "        n = int(action.split()[1])\n",
        "        actions['push'](n)\n",
        "    else:\n",
        "        c = actions[action]()"
      ],
      "metadata": {
        "id": "OGefQLWFfofY"
      },
      "execution_count": null,
      "outputs": []
    },
    {
      "cell_type": "code",
      "source": [],
      "metadata": {
        "id": "hMIYPK50RmW2"
      },
      "execution_count": null,
      "outputs": []
    }
  ]
}