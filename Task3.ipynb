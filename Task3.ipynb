{
 "cells": [
  {
   "cell_type": "markdown",
   "metadata": {
    "id": "IfThW9RkRsWB"
   },
   "source": [
    "Домашняя работа (14.12)\n",
    "\n",
    "1. Необходимо реализовать очередь c приоритетом со всеми методами (3 балла)\n",
    "2. Необходимо найти максимальное произведение соседей в массиве, если несколько одинаковых результатов, то не обходимо выбрать с наименьшим множителем  (2 балла)\n",
    "\n",
    "Лекции: https://docs.google.com/presentation/d/1RihXDGBtlgwqGhDOlG2_oQTK4t9x5yqmOtI12lJy2es/edit#slide=id.p"
   ]
  },
  {
   "cell_type": "code",
   "execution_count": 1,
   "metadata": {
    "id": "WNcN5ZDORomj"
   },
   "outputs": [],
   "source": [
    "class Stack():\n",
    "    def __init__(self):\n",
    "      self.stack = []\n",
    "\n",
    "    def push(self, n):\n",
    "      self.stack.append(n)\n",
    "      print('ok')\n",
    "      return True\n",
    "\n",
    "    def pop(self):\n",
    "      try:\n",
    "        a= self.stack.pop()\n",
    "        print(a)\n",
    "      except:\n",
    "        print('error')\n",
    "      return True\n",
    "\n",
    "    def back(self):\n",
    "      try:\n",
    "        a=self.stack.back()\n",
    "        print(self.stack[-1])\n",
    "      except:\n",
    "        print('error')\n",
    "      return True\n",
    "\n",
    "    def size(self):\n",
    "      print(len(self.stack))\n",
    "      return True\n",
    "\n",
    "    def clear(self):\n",
    "      self.stack=[]\n",
    "      print('ok')\n",
    "      return True\n",
    "\n",
    "    def show(self):\n",
    "      return self.stack"
   ]
  },
  {
   "cell_type": "code",
   "execution_count": 2,
   "metadata": {
    "id": "T7rYYVVmeet3"
   },
   "outputs": [],
   "source": [
    "stack = Stack()\n",
    "c= True\n",
    "actions = {\n",
    "    'push': stack.push,\n",
    "    'pop': stack.pop,\n",
    "    'show': stack.show()\n",
    "}"
   ]
  },
  {
   "cell_type": "code",
   "execution_count": 4,
   "metadata": {
    "id": "OGefQLWFfofY"
   },
   "outputs": [
    {
     "name": "stdin",
     "output_type": "stream",
     "text": [
      " push 1\n"
     ]
    },
    {
     "name": "stdout",
     "output_type": "stream",
     "text": [
      "ok\n"
     ]
    },
    {
     "name": "stdin",
     "output_type": "stream",
     "text": [
      " show\n"
     ]
    },
    {
     "ename": "TypeError",
     "evalue": "'list' object is not callable",
     "output_type": "error",
     "traceback": [
      "\u001b[0;31m---------------------------------------------------------------------------\u001b[0m",
      "\u001b[0;31mTypeError\u001b[0m                                 Traceback (most recent call last)",
      "Cell \u001b[0;32mIn[4], line 8\u001b[0m\n\u001b[1;32m      6\u001b[0m     actions[\u001b[38;5;124m'\u001b[39m\u001b[38;5;124mpush\u001b[39m\u001b[38;5;124m'\u001b[39m](n)\n\u001b[1;32m      7\u001b[0m \u001b[38;5;28;01melse\u001b[39;00m:\n\u001b[0;32m----> 8\u001b[0m     c \u001b[38;5;241m=\u001b[39m \u001b[43mactions\u001b[49m\u001b[43m[\u001b[49m\u001b[43maction\u001b[49m\u001b[43m]\u001b[49m\u001b[43m(\u001b[49m\u001b[43m)\u001b[49m\n",
      "\u001b[0;31mTypeError\u001b[0m: 'list' object is not callable"
     ]
    }
   ],
   "source": [
    "while c:\n",
    "    action = input()\n",
    "\n",
    "    if len(action.split()) == 2:\n",
    "        n = int(action.split()[1])\n",
    "        actions['push'](n)\n",
    "    else:\n",
    "        c = actions[action]()"
   ]
  },
  {
   "cell_type": "markdown",
   "metadata": {
    "id": "hMIYPK50RmW2"
   },
   "source": [
    "# Очередь"
   ]
  },
  {
   "cell_type": "code",
   "execution_count": 123,
   "metadata": {},
   "outputs": [],
   "source": [
    "class Queue():    \n",
    "    def __init__(self, *args):\n",
    "        self._queue = []\n",
    "        self.iter = 0\n",
    "        if len(args)>0:\n",
    "            for item in args:\n",
    "                self.enqueue(item)\n",
    "\n",
    "    def enqueue(self, *item):\n",
    "        if len(item) < 1:\n",
    "            raise TypeError(f'Queue requires at list one item that is a list, tuple or dict of `object and its priority`')\n",
    "        if len(item) == 1:\n",
    "            if type(item[0]) in [list, tuple, set, dict]:\n",
    "                if type(item[0]) == dict:\n",
    "                    if 'item' not in list(item[0].keys()) or 'priority' not in list(item[0].keys()):\n",
    "                        raise ValueError('Dict must be as follows: {\"item\": object, \"priority\": int}, but' +\\\n",
    "                                        f'{item[0]} was given')\n",
    "                    object, priority = item[0]['item'], item[0]['priority']\n",
    "                else:\n",
    "                    if len(item[0]) != 2:\n",
    "                        raise ValueError(f'List or tuple must contain two elemts: `object and its priority`')\n",
    "                    object, priority = item[0][0], item[0][1]\n",
    "                if type(priority) == int:\n",
    "                    if len(self._queue) == 0:\n",
    "                        self._queue.append([object, priority])\n",
    "                    else:\n",
    "                        self._queue.append([object, priority])\n",
    "                        self._queue.sort(key = lambda x: x[-1])\n",
    "                else:\n",
    "                    raise ValueError(f'''Priority must be integer, but {priority} was given.''')\n",
    "            else:\n",
    "                raise ValueError(f'''Queue requires item to be a list, tuple or dict of `object and its priority`,\n",
    "                                but \"{item}\" was given''')\n",
    "        elif len(item) > 1:\n",
    "            for _item in item:\n",
    "                if type(_item) in [list, tuple, set, dict]:\n",
    "                    self.enqueue(_item)     \n",
    "                else:\n",
    "                    raise ValueError(f'''Queue requires item to be a list, tuple or dict of `object and its priority`,\n",
    "                                but \"{_item}\" was given''')\n",
    "\n",
    "    def dequeue(self):\n",
    "        if len(self._queue) == 0:\n",
    "            print('queue is empty')\n",
    "            pass\n",
    "        else:\n",
    "            self._queue = self._queue[1:]\n",
    "\n",
    "    def empty(self):\n",
    "        self._queue = []\n",
    "\n",
    "    def size(self):\n",
    "        return len(self._queue)\n",
    "\n",
    "    def __str__(self):\n",
    "        output = ''\n",
    "        for item in self._queue:\n",
    "            output += f'object: {item[0]}, priority: {item[1]}\\n'\n",
    "        return output\n",
    "\n",
    "    def __getitem__(self, index):\n",
    "        if not isinstance(item, int):\n",
    "            raise TypeError(f'Index must be integer, but {index} was given')\n",
    "        if -len(self._queue) <= index < len(self._queue):\n",
    "            return self._queue[index]\n",
    "        else:\n",
    "            raise IndexError(f'Index {index} is out of range')\n",
    "\n",
    "    def __next__(self):\n",
    "        if self.iter < len(self._queue):\n",
    "            self.iter += 1\n",
    "            return self._queue[self.iter - 1]\n",
    "        else:\n",
    "            raise StopIteration\n",
    "\n",
    "    def __iter__(self):\n",
    "        self.iter = 0\n",
    "        return self"
   ]
  },
  {
   "cell_type": "code",
   "execution_count": 124,
   "metadata": {},
   "outputs": [
    {
     "name": "stdout",
     "output_type": "stream",
     "text": [
      "4\n",
      "object: 1, priority: 1\n",
      "object: 1, priority: 2\n",
      "object: 12, priority: 2\n",
      "object: 3, priority: 2\n",
      "object: 2, priority: 3\n",
      "object: 13, priority: 3\n",
      "object: name, priority: 4\n",
      "\n",
      "object: 1, priority: 2\n",
      "object: 12, priority: 2\n",
      "object: 3, priority: 2\n",
      "object: 2, priority: 3\n",
      "object: 13, priority: 3\n",
      "object: name, priority: 4\n",
      "\n"
     ]
    }
   ],
   "source": [
    "queue = Queue()\n",
    "queue.enqueue([1, 2], (1, 1), [2, 3], (12, 2))\n",
    "print(queue.size())\n",
    "queue.enqueue([13, 3], [3, 2])\n",
    "queue.enqueue({'item': 'name', 'priority': 4})\n",
    "print(queue)\n",
    "queue.dequeue()\n",
    "print(queue)\n",
    "# queue.empty()\n",
    "# print(queue.size())"
   ]
  },
  {
   "cell_type": "code",
   "execution_count": 125,
   "metadata": {},
   "outputs": [
    {
     "name": "stdout",
     "output_type": "stream",
     "text": [
      "[1, 2]\n",
      "[12, 2]\n",
      "[3, 2]\n",
      "[2, 3]\n",
      "[13, 3]\n",
      "['name', 4]\n"
     ]
    }
   ],
   "source": [
    "for item in queue:\n",
    "    print(item)"
   ]
  },
  {
   "cell_type": "code",
   "execution_count": 98,
   "metadata": {},
   "outputs": [
    {
     "data": {
      "text/plain": [
       "(2, 12)"
      ]
     },
     "execution_count": 98,
     "metadata": {},
     "output_type": "execute_result"
    }
   ],
   "source": [
    "s = {12, 2}\n",
    "s.pop(), s.pop()"
   ]
  },
  {
   "cell_type": "code",
   "execution_count": 85,
   "metadata": {},
   "outputs": [
    {
     "data": {
      "text/plain": [
       "[1, 2]"
      ]
     },
     "execution_count": 85,
     "metadata": {},
     "output_type": "execute_result"
    }
   ],
   "source": [
    "list({1: 1, 2:2}.keys())"
   ]
  },
  {
   "cell_type": "code",
   "execution_count": 121,
   "metadata": {},
   "outputs": [
    {
     "data": {
      "text/plain": [
       "1"
      ]
     },
     "execution_count": 121,
     "metadata": {},
     "output_type": "execute_result"
    }
   ],
   "source": [
    "l = [1, 2, 3, 4, 5]\n",
    "l[4]\n",
    "l[-5]"
   ]
  },
  {
   "cell_type": "code",
   "execution_count": null,
   "metadata": {},
   "outputs": [],
   "source": []
  }
 ],
 "metadata": {
  "colab": {
   "provenance": []
  },
  "kernelspec": {
   "display_name": "venv",
   "language": "python",
   "name": "venv"
  },
  "language_info": {
   "codemirror_mode": {
    "name": "ipython",
    "version": 3
   },
   "file_extension": ".py",
   "mimetype": "text/x-python",
   "name": "python",
   "nbconvert_exporter": "python",
   "pygments_lexer": "ipython3",
   "version": "3.9.13"
  }
 },
 "nbformat": 4,
 "nbformat_minor": 4
}
